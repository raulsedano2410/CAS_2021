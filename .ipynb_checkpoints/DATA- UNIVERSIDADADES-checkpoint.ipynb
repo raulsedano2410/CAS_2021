{
 "cells": [
  {
   "cell_type": "code",
   "execution_count": 1,
   "metadata": {},
   "outputs": [],
   "source": [
    "# Exporto las librerias\n",
    "from selenium import webdriver\n",
    "from selenium.webdriver.support.ui import WebDriverWait\n",
    "from selenium.webdriver.support import expected_conditions as EC\n",
    "from selenium.webdriver.common.by import By\n",
    "import time\n",
    "from time import sleep\n",
    "import numpy as np\n",
    "import pandas as pd\n",
    "from pandas import Series,DataFrame\n",
    "import re\n",
    "from selenium.webdriver.common.alert import Alert\n",
    "from selenium.common.exceptions import NoSuchElementException"
   ]
  },
  {
   "cell_type": "code",
   "execution_count": 2,
   "metadata": {},
   "outputs": [],
   "source": [
    "# Desabilitamos las extensiones\n",
    "options = webdriver.ChromeOptions()\n",
    "options.add_argument('--start-maximized')\n",
    "options.add_argument('--disable-extensions')"
   ]
  },
  {
   "cell_type": "code",
   "execution_count": 178,
   "metadata": {},
   "outputs": [
    {
     "name": "stderr",
     "output_type": "stream",
     "text": [
      "<ipython-input-178-a66ddfaf9140>:10: DeprecationWarning: use options instead of chrome_options\n",
      "  driver = webdriver.Chrome(driver_path, chrome_options=options)\n"
     ]
    }
   ],
   "source": [
    "# Ruta absoluta:\n",
    "\n",
    "# driver_path = 'C:\\\\Users\\\\LENOVO\\\\Downloads\\\\chromedriver_win32\\\\chromedriver.exe'\n",
    "\n",
    "#Ruta relativa\n",
    "\n",
    "driver_path = \"./chromedriver_win32/chromedriver.exe\"\n",
    "\n",
    "\n",
    "driver = webdriver.Chrome(driver_path, chrome_options=options)\n",
    "\n",
    "# Inicializamos el navegador\n",
    "driver.get('http://tuni.pe/programas?page=1')\n"
   ]
  },
  {
   "cell_type": "code",
   "execution_count": 60,
   "metadata": {},
   "outputs": [],
   "source": [
    "datos= driver.find_element_by_xpath('.//div[@class=\"card mb-3 card-item\"]')"
   ]
  },
  {
   "cell_type": "code",
   "execution_count": 23,
   "metadata": {},
   "outputs": [],
   "source": [
    "carrera = driver.find_element_by_xpath('//div[1][@class=\"title-container\"]').text"
   ]
  },
  {
   "cell_type": "code",
   "execution_count": 37,
   "metadata": {},
   "outputs": [],
   "source": [
    "universidad = driver.find_element_by_xpath('.//span[1][@class=\"resultado-resumen-1\"]').text"
   ]
  },
  {
   "cell_type": "code",
   "execution_count": 40,
   "metadata": {},
   "outputs": [],
   "source": [
    "ubicacion = driver.find_element_by_xpath('.//span[2][@class=\"resultado-resumen-2\"]').text"
   ]
  },
  {
   "cell_type": "code",
   "execution_count": 42,
   "metadata": {},
   "outputs": [],
   "source": [
    "duracion= driver.find_element_by_xpath('//div[2][@class=\"indice-numero\"]').text"
   ]
  },
  {
   "cell_type": "code",
   "execution_count": 46,
   "metadata": {},
   "outputs": [],
   "source": [
    "estudiantes= driver.find_element_by_xpath('/html/body/app-root/ng-component/app-layout-comparador/div/div/div[1]/app-list-carreras/app-list-item-carrera[1]/div/div/div[2]/div/div[2]/div/div[2]/div[2]').text"
   ]
  },
  {
   "cell_type": "code",
   "execution_count": 209,
   "metadata": {},
   "outputs": [
    {
     "name": "stdout",
     "output_type": "stream",
     "text": [
      "Mujeres -\n"
     ]
    }
   ],
   "source": [
    "alumnos = driver.find_element_by_xpath('//div[@class=\"detail-indices\"]/div[2]').text\n",
    "print(alumnos)"
   ]
  },
  {
   "cell_type": "code",
   "execution_count": 211,
   "metadata": {},
   "outputs": [],
   "source": [
    "# Creando listas\n",
    "Car = []\n",
    "uni=[]\n",
    "ubi=[]\n",
    "dur=[]\n",
    "est=[]\n",
    "alum=[]\n",
    "i=1\n",
    "j=0"
   ]
  },
  {
   "cell_type": "code",
   "execution_count": 213,
   "metadata": {},
   "outputs": [
    {
     "name": "stdout",
     "output_type": "stream",
     "text": [
      "11\n",
      "ADMINISTRACIÓN (PREGRADO)\n",
      "ASOCIACIÓN CIVIL UNIVERSIDAD DE CIENCIAS Y HUMANIDADES (UCH) (PRIVADO)\n",
      "LOS OLIVOS / LIMA / LIMA\n",
      "5 Años\n",
      "287\n",
      "Hombres 87\n",
      "Mujeres 200\n",
      "12\n",
      "ADMINISTRACIÓN (PREGRADO)\n",
      "UNIVERSIDAD NACIONAL DE CAÑETE (UNDC) (PÚBLICO)\n",
      "SAN VICENTE DE CAÑETE / CAÑETE / LIMA\n",
      "5 Años\n",
      "287\n",
      "Hombres 87\n",
      "Mujeres 200\n",
      "13\n",
      "ADMINISTRACIÓN (PREGRADO)\n",
      "UNIVERSIDAD CONTINENTAL S.A.C. (UCONTINENTAL) (PRIVADO)\n",
      "HUANCAYO / HUANCAYO / JUNÍN\n",
      "5 Años\n",
      "287\n",
      "Hombres 87\n",
      "Mujeres 200\n",
      "14\n",
      "ADMINISTRACIÓN (PREGRADO)\n",
      "UNIVERSIDAD CATÓLICA DE TRUJILLO BENEDICTO XVI (UCT) (PRIVADO)\n",
      "MOCHE / TRUJILLO / LA LIBERTAD\n",
      "5 Años\n",
      "287\n",
      "Hombres 87\n",
      "Mujeres 200\n",
      "15\n",
      "ADMINISTRACIÓN (PREGRADO)\n",
      "UNIVERSIDAD NACIONAL MAYOR DE SAN MARCOS (UNMSM) (PÚBLICO)\n",
      "LIMA / LIMA / LIMA\n",
      "5 Años\n",
      "287\n",
      "Hombres 87\n",
      "Mujeres 200\n",
      "16\n",
      "ADMINISTRACIÓN (PREGRADO)\n",
      "UNIVERSIDAD NACIONAL MAYOR DE SAN MARCOS (UNMSM) (PÚBLICO)\n",
      "LIMA / LIMA / LIMA\n",
      "2 Años\n",
      "287\n",
      "Hombres 87\n",
      "Mujeres 200\n",
      "17\n",
      "ADMINISTRACIÓN (PREGRADO)\n",
      "UNIVERSIDAD PRIVADA DEL NORTE S.A.C. (UPN) (PRIVADO)\n",
      "TRUJILLO / TRUJILLO / LA LIBERTAD\n",
      "5 Años\n",
      "287\n",
      "Hombres 87\n",
      "Mujeres 200\n",
      "18\n",
      "ADMINISTRACIÓN (PREGRADO)\n",
      "UNIVERSIDAD ANDINA DEL CUSCO (UAC) (PRIVADO)\n",
      "SAN JERÓNIMO / CUSCO / CUSCO\n",
      "5 Años\n",
      "287\n",
      "Hombres 87\n",
      "Mujeres 200\n",
      "19\n",
      "ADMINISTRACIÓN (PREGRADO)\n",
      "UNIVERSIDAD ANDINA DEL CUSCO (UAC) (PRIVADO)\n",
      "SAN JERÓNIMO / CUSCO / CUSCO\n",
      "2 Años\n",
      "287\n",
      "Hombres 87\n",
      "Mujeres 200\n",
      "20\n",
      "ADMINISTRACIÓN (PREGRADO)\n",
      "UNIVERSIDAD NACIONAL DE SAN AGUSTÍN DE AREQUIPA (UNSA) (PÚBLICO)\n",
      "AREQUIPA / AREQUIPA / AREQUIPA\n",
      "5 Años\n",
      "287\n",
      "Hombres 87\n",
      "Mujeres 200\n"
     ]
    }
   ],
   "source": [
    "datos= driver.find_elements_by_xpath('.//div[@class=\"card mb-3 card-item\"]')\n",
    "\n",
    "\n",
    "for dato in datos :\n",
    "\n",
    "    print(i)\n",
    "    \n",
    "    try :\n",
    "\n",
    "        carrera = dato.find_element_by_xpath('//div[1][@class=\"title-container\"]').text\n",
    "        print ( carrera )\n",
    "        Car.append(carrera )\n",
    "\n",
    "        universidad = dato.find_element_by_xpath('.//span[1][@class=\"resultado-resumen-1\"]').text\n",
    "        print(universidad)\n",
    "        uni.append(universidad)\n",
    "\n",
    "\n",
    "        ubicacion = dato.find_element_by_xpath('.//span[2][@class=\"resultado-resumen-2\"]').text\n",
    "        print(ubicacion)\n",
    "        ubi.append(ubicacion)\n",
    "\n",
    "\n",
    "\n",
    "        duracion= dato.find_element_by_xpath('.//div[2][@class=\"indice-numero\"]').text\n",
    "        print(duracion)\n",
    "        dur.append(duracion)\n",
    "\n",
    "# En estos dos casos lo unico que quedaria seria hacer un for por el hecho que en la parete de carrera se va aumentado en 1 \n",
    "        estudiantes= dato.find_element_by_xpath('/html/body/app-root/ng-component/app-layout-comparador/div/div/div[1]/app-list-carreras/app-list-item-carrera[4]/div/div/div[2]/div/div[2]/div/div[2]/div[2]').text\n",
    "        print(estudiantes)\n",
    "        est.append(estudiantes)\n",
    "\n",
    "        \n",
    "        alumnos = dato.find_element_by_xpath('/html/body/app-root/ng-component/app-layout-comparador/div/div/div[1]/app-list-carreras/app-list-item-carrera[4]/div/div/div[2]/div/div[2]/div/div[3]/div').text\n",
    "        print(alumnos)\n",
    "        alum.append(alumnos)\n",
    "\n",
    "        i=i+1\n",
    "        \n",
    "        \n",
    "    except :\n",
    "        pass\n",
    "\n",
    "        \n",
    "\n",
    "        \n",
    "\n"
   ]
  },
  {
   "cell_type": "code",
   "execution_count": 199,
   "metadata": {},
   "outputs": [
    {
     "data": {
      "text/plain": [
       "['7',\n",
       " '7',\n",
       " '7',\n",
       " '7',\n",
       " '7',\n",
       " '7',\n",
       " '7',\n",
       " '7',\n",
       " '7',\n",
       " '7',\n",
       " 'Hombres 7\\nMujeres -',\n",
       " 'Hombres 7\\nMujeres -',\n",
       " 'Hombres 7\\nMujeres -',\n",
       " 'Hombres 7\\nMujeres -',\n",
       " 'Hombres 7\\nMujeres -',\n",
       " 'Hombres 7\\nMujeres -',\n",
       " 'Hombres 7\\nMujeres -',\n",
       " 'Hombres 7\\nMujeres -',\n",
       " 'Hombres 7\\nMujeres -',\n",
       " 'Hombres 7\\nMujeres -',\n",
       " 'Hombres 7\\nMujeres -',\n",
       " 'Hombres 7\\nMujeres -',\n",
       " 'Hombres 7\\nMujeres -',\n",
       " 'Hombres 7\\nMujeres -',\n",
       " 'Hombres 7\\nMujeres -',\n",
       " 'Hombres 7\\nMujeres -',\n",
       " 'Hombres 7\\nMujeres -',\n",
       " 'Hombres 7\\nMujeres -',\n",
       " 'Hombres 7\\nMujeres -',\n",
       " 'Hombres 7\\nMujeres -',\n",
       " 'Hombres 7\\nMujeres -',\n",
       " 'Hombres 7\\nMujeres -',\n",
       " 'Hombres 7\\nMujeres -',\n",
       " 'Hombres 7\\nMujeres -',\n",
       " 'Hombres 7\\nMujeres -',\n",
       " 'Hombres 7\\nMujeres -',\n",
       " 'Hombres 7\\nMujeres -',\n",
       " 'Hombres 7\\nMujeres -',\n",
       " 'Hombres 7\\nMujeres -',\n",
       " 'Hombres 7\\nMujeres -',\n",
       " 'Hombres 135\\nMujeres 75',\n",
       " 'Hombres 135\\nMujeres 75',\n",
       " 'Hombres 135\\nMujeres 75',\n",
       " 'Hombres 135\\nMujeres 75',\n",
       " 'Hombres 135\\nMujeres 75',\n",
       " 'Hombres 135\\nMujeres 75',\n",
       " 'Hombres 135\\nMujeres 75',\n",
       " 'Hombres 135\\nMujeres 75',\n",
       " 'Hombres 135\\nMujeres 75',\n",
       " 'Hombres 135\\nMujeres 75',\n",
       " 'Hombres 9\\nMujeres 2',\n",
       " 'Hombres 9\\nMujeres 2',\n",
       " 'Hombres 9\\nMujeres 2',\n",
       " 'Hombres 9\\nMujeres 2',\n",
       " 'Hombres 9\\nMujeres 2',\n",
       " 'Hombres 9\\nMujeres 2',\n",
       " 'Hombres 9\\nMujeres 2',\n",
       " 'Hombres 9\\nMujeres 2',\n",
       " 'Hombres 9\\nMujeres 2',\n",
       " 'Hombres 9\\nMujeres 2',\n",
       " 'No disponible',\n",
       " 'No disponible',\n",
       " 'No disponible',\n",
       " 'No disponible',\n",
       " 'No disponible',\n",
       " 'No disponible',\n",
       " 'No disponible',\n",
       " 'No disponible',\n",
       " 'No disponible',\n",
       " 'No disponible']"
      ]
     },
     "execution_count": 199,
     "metadata": {},
     "output_type": "execute_result"
    }
   ],
   "source": [
    "alum"
   ]
  },
  {
   "cell_type": "code",
   "execution_count": null,
   "metadata": {},
   "outputs": [],
   "source": [
    "#estudiantes= dato.find_element_by_xpath('/html/body/app-root/ng-component/app-layout-comparador/div/div/div[1]/app-list-carreras/app-list-item-carrera[4]/div/div/div[2]/div/div[2]/div/div[2]/div[2]').text\n",
    "        #print(estudiantes)\n",
    "        #est.append(estudiantes)\n",
    "\n",
    "        \n",
    "        #alumnos = dato.find_element_by_xpath('/html/body/app-root/ng-component/app-layout-comparador/div/div/div[1]/app-list-carreras/app-list-item-carrera[4]/div/div/div[2]/div/div[2]/div/div[3]/div').text\n",
    "        print(alumnos)\n",
    "        alum.append(alumnos)"
   ]
  },
  {
   "cell_type": "code",
   "execution_count": 74,
   "metadata": {},
   "outputs": [
    {
     "data": {
      "text/plain": [
       "'5 Años'"
      ]
     },
     "execution_count": 74,
     "metadata": {},
     "output_type": "execute_result"
    }
   ],
   "source": [
    "duracion"
   ]
  },
  {
   "cell_type": "code",
   "execution_count": 76,
   "metadata": {},
   "outputs": [
    {
     "data": {
      "text/plain": [
       "10"
      ]
     },
     "execution_count": 76,
     "metadata": {},
     "output_type": "execute_result"
    }
   ],
   "source": [
    "len(dur)"
   ]
  },
  {
   "cell_type": "code",
   "execution_count": 81,
   "metadata": {},
   "outputs": [
    {
     "data": {
      "text/plain": [
       "'Hombres 7\\nMujeres -'"
      ]
     },
     "execution_count": 81,
     "metadata": {},
     "output_type": "execute_result"
    }
   ],
   "source": [
    "alumnos"
   ]
  },
  {
   "cell_type": "code",
   "execution_count": null,
   "metadata": {},
   "outputs": [],
   "source": [
    "/html/body/app-root/ng-component/app-layout-comparador/div/div/div[1]/app-list-carreras/app-list-item-carrera[1]/div/div/div[2]/div/div[2]/div/div[2]/div[2]"
   ]
  },
  {
   "cell_type": "code",
   "execution_count": 82,
   "metadata": {},
   "outputs": [
    {
     "data": {
      "text/plain": [
       "['Hombres 7\\nMujeres -',\n",
       " 'Hombres 7\\nMujeres -',\n",
       " 'Hombres 7\\nMujeres -',\n",
       " 'Hombres 7\\nMujeres -',\n",
       " 'Hombres 7\\nMujeres -',\n",
       " 'Hombres 7\\nMujeres -',\n",
       " 'Hombres 7\\nMujeres -',\n",
       " 'Hombres 7\\nMujeres -',\n",
       " 'Hombres 7\\nMujeres -',\n",
       " 'Hombres 7\\nMujeres -']"
      ]
     },
     "execution_count": 82,
     "metadata": {},
     "output_type": "execute_result"
    }
   ],
   "source": [
    "/html/body/app-root/ng-component/app-layout-comparador/div/div/div[1]/app-list-carreras/app-list-item-carrera[2]/div/div/div[2]/div/div[2]/div/div[2]/div[2]"
   ]
  },
  {
   "cell_type": "code",
   "execution_count": null,
   "metadata": {},
   "outputs": [],
   "source": []
  },
  {
   "cell_type": "code",
   "execution_count": 83,
   "metadata": {},
   "outputs": [
    {
     "data": {
      "text/plain": [
       "['7', '7', '7', '7', '7', '7', '7', '7', '7', '7']"
      ]
     },
     "execution_count": 83,
     "metadata": {},
     "output_type": "execute_result"
    }
   ],
   "source": [
    "est"
   ]
  },
  {
   "cell_type": "code",
   "execution_count": 84,
   "metadata": {},
   "outputs": [
    {
     "data": {
      "text/plain": [
       "['Hombres 7\\nMujeres -',\n",
       " 'Hombres 7\\nMujeres -',\n",
       " 'Hombres 7\\nMujeres -',\n",
       " 'Hombres 7\\nMujeres -',\n",
       " 'Hombres 7\\nMujeres -',\n",
       " 'Hombres 7\\nMujeres -',\n",
       " 'Hombres 7\\nMujeres -',\n",
       " 'Hombres 7\\nMujeres -',\n",
       " 'Hombres 7\\nMujeres -',\n",
       " 'Hombres 7\\nMujeres -']"
      ]
     },
     "execution_count": 84,
     "metadata": {},
     "output_type": "execute_result"
    }
   ],
   "source": [
    "alum"
   ]
  },
  {
   "cell_type": "code",
   "execution_count": 86,
   "metadata": {},
   "outputs": [
    {
     "data": {
      "text/plain": [
       "'Hombres 7\\nMujeres -'"
      ]
     },
     "execution_count": 86,
     "metadata": {},
     "output_type": "execute_result"
    }
   ],
   "source": [
    "  alumnos"
   ]
  },
  {
   "cell_type": "code",
   "execution_count": 137,
   "metadata": {},
   "outputs": [],
   "source": [
    "alumnos = driver.find_element_by_xpath('/html/body/app-root/ng-component/app-layout-comparador/div/div/div[1]/app-list-carreras/app-list-item-carrera[1]/div/div/div[2]/div/div[2]/div/div[3]/div/div[1]').text"
   ]
  },
  {
   "cell_type": "code",
   "execution_count": 138,
   "metadata": {},
   "outputs": [
    {
     "data": {
      "text/plain": [
       "'Hombres 7'"
      ]
     },
     "execution_count": 138,
     "metadata": {},
     "output_type": "execute_result"
    }
   ],
   "source": [
    "alumnos"
   ]
  },
  {
   "cell_type": "code",
   "execution_count": 152,
   "metadata": {},
   "outputs": [
    {
     "data": {
      "text/plain": [
       "'Mujeres -'"
      ]
     },
     "execution_count": 152,
     "metadata": {},
     "output_type": "execute_result"
    }
   ],
   "source": [
    "alumnos"
   ]
  },
  {
   "cell_type": "code",
   "execution_count": 164,
   "metadata": {},
   "outputs": [
    {
     "data": {
      "text/plain": [
       "'DURACIÓN\\n5 Años'"
      ]
     },
     "execution_count": 164,
     "metadata": {},
     "output_type": "execute_result"
    }
   ],
   "source": [
    "driver.find_element_by_xpath('/html/body/app-root/ng-component/app-layout-comparador/div/div/div[1]/app-list-carreras/app-list-item-carrera[2]/div/div/div[2]/div/div[2]/div/div[1]').text"
   ]
  },
  {
   "cell_type": "code",
   "execution_count": 165,
   "metadata": {},
   "outputs": [
    {
     "data": {
      "text/plain": [
       "'DURACIÓN\\n1 Año'"
      ]
     },
     "execution_count": 165,
     "metadata": {},
     "output_type": "execute_result"
    }
   ],
   "source": [
    "driver.find_element_by_xpath('/html/body/app-root/ng-component/app-layout-comparador/div/div/div[1]/app-list-carreras/app-list-item-carrera[4]/div/div/div[2]/div/div[2]/div/div[1]').text"
   ]
  },
  {
   "cell_type": "code",
   "execution_count": 166,
   "metadata": {},
   "outputs": [
    {
     "data": {
      "text/plain": [
       "'697'"
      ]
     },
     "execution_count": 166,
     "metadata": {},
     "output_type": "execute_result"
    }
   ],
   "source": [
    "driver.find_element_by_xpath('/html/body/app-root/ng-component/app-layout-comparador/div/div/div[1]/app-list-carreras/app-list-item-carrera[6]/div/div/div[2]/div/div[2]/div/div[2]/div[2]').text"
   ]
  },
  {
   "cell_type": "code",
   "execution_count": 168,
   "metadata": {},
   "outputs": [
    {
     "data": {
      "text/plain": [
       "'210'"
      ]
     },
     "execution_count": 168,
     "metadata": {},
     "output_type": "execute_result"
    }
   ],
   "source": [
    "driver.find_element_by_xpath('/html/body/app-root/ng-component/app-layout-comparador/div/div/div[1]/app-list-carreras/app-list-item-carrera[2]/div/div/div[2]/div/div[2]/div/div[2]/div[2]').text"
   ]
  },
  {
   "cell_type": "code",
   "execution_count": 182,
   "metadata": {},
   "outputs": [],
   "source": [
    "caja=\"vacio\"\n",
    "j=1\n",
    "alum=[]"
   ]
  },
  {
   "cell_type": "code",
   "execution_count": 183,
   "metadata": {},
   "outputs": [
    {
     "ename": "AttributeError",
     "evalue": "'list' object has no attribute 'find_element_by_xpath'",
     "output_type": "error",
     "traceback": [
      "\u001b[1;31m---------------------------------------------------------------------------\u001b[0m",
      "\u001b[1;31mAttributeError\u001b[0m                            Traceback (most recent call last)",
      "\u001b[1;32m<ipython-input-183-0bdf5fc92d27>\u001b[0m in \u001b[0;36m<module>\u001b[1;34m\u001b[0m\n\u001b[0;32m      3\u001b[0m     \u001b[0mdatos\u001b[0m\u001b[1;33m=\u001b[0m \u001b[0mdriver\u001b[0m\u001b[1;33m.\u001b[0m\u001b[0mfind_elements_by_xpath\u001b[0m\u001b[1;33m(\u001b[0m\u001b[1;34m'.//div[@class=\"card mb-3 card-item\"]'\u001b[0m\u001b[1;33m)\u001b[0m\u001b[1;33m\u001b[0m\u001b[1;33m\u001b[0m\u001b[0m\n\u001b[0;32m      4\u001b[0m \u001b[1;33m\u001b[0m\u001b[0m\n\u001b[1;32m----> 5\u001b[1;33m     \u001b[0malumnos\u001b[0m \u001b[1;33m=\u001b[0m \u001b[0mdatos\u001b[0m\u001b[1;33m.\u001b[0m\u001b[0mfind_element_by_xpath\u001b[0m\u001b[1;33m(\u001b[0m\u001b[1;34mf'/html/body/app-root/ng-component/app-layout-comparador/div/div/div[1]/app-list-carreras/app-list-item-carrera[{j}]/div/div/div[2]/div/div[2]/div/div[2]/div[2]'\u001b[0m\u001b[1;33m)\u001b[0m\u001b[1;33m.\u001b[0m\u001b[0mtext\u001b[0m\u001b[1;33m\u001b[0m\u001b[1;33m\u001b[0m\u001b[0m\n\u001b[0m\u001b[0;32m      6\u001b[0m \u001b[1;33m\u001b[0m\u001b[0m\n\u001b[0;32m      7\u001b[0m     \u001b[0mprint\u001b[0m\u001b[1;33m(\u001b[0m\u001b[0malumnos\u001b[0m\u001b[1;33m)\u001b[0m\u001b[1;33m\u001b[0m\u001b[1;33m\u001b[0m\u001b[0m\n",
      "\u001b[1;31mAttributeError\u001b[0m: 'list' object has no attribute 'find_element_by_xpath'"
     ]
    }
   ],
   "source": [
    "\n",
    "while caja !=0 :\n",
    "    \n",
    "    datos= driver.find_elements_by_xpath('.//div[@class=\"card mb-3 card-item\"]')\n",
    "    \n",
    "    alumnos = datos.find_element_by_xpath(f'/html/body/app-root/ng-component/app-layout-comparador/div/div/div[1]/app-list-carreras/app-list-item-carrera[{j}]/div/div/div[2]/div/div[2]/div/div[2]/div[2]').text\n",
    "    \n",
    "    print(alumnos)\n",
    "    \n",
    "    alum.append(alumnos)\n",
    "    \n",
    "    j += 1\n",
    "    \n",
    "    print( i )\n",
    "    \n",
    "    datos = driver.find_elements_by_xpath('.//div[@class=\"card mb-3 card-item\"]')\n",
    "    caja = len( datos )"
   ]
  },
  {
   "cell_type": "code",
   "execution_count": null,
   "metadata": {},
   "outputs": [],
   "source": []
  },
  {
   "cell_type": "code",
   "execution_count": null,
   "metadata": {},
   "outputs": [],
   "source": []
  },
  {
   "cell_type": "code",
   "execution_count": null,
   "metadata": {},
   "outputs": [],
   "source": []
  }
 ],
 "metadata": {
  "kernelspec": {
   "display_name": "Python 3",
   "language": "python",
   "name": "python3"
  },
  "language_info": {
   "codemirror_mode": {
    "name": "ipython",
    "version": 3
   },
   "file_extension": ".py",
   "mimetype": "text/x-python",
   "name": "python",
   "nbconvert_exporter": "python",
   "pygments_lexer": "ipython3",
   "version": "3.8.5"
  }
 },
 "nbformat": 4,
 "nbformat_minor": 4
}
