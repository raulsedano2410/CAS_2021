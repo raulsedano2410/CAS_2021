{
 "cells": [
  {
   "cell_type": "code",
   "execution_count": 3,
   "metadata": {},
   "outputs": [],
   "source": [
    "# Exporto las librerias\n",
    "from selenium import webdriver\n",
    "from selenium.webdriver.support.ui import WebDriverWait\n",
    "from selenium.webdriver.support import expected_conditions as EC\n",
    "from selenium.webdriver.common.by import By\n",
    "import time\n",
    "from time import sleep\n",
    "import numpy as np\n",
    "import pandas as pd\n",
    "from pandas import Series,DataFrame\n",
    "import re\n",
    "from selenium.common.exceptions import NoSuchElementException"
   ]
  },
  {
   "cell_type": "code",
   "execution_count": 4,
   "metadata": {},
   "outputs": [],
   "source": [
    "# Desabilitamos las extensiones\n",
    "options = webdriver.ChromeOptions()\n",
    "options.add_argument('--start-maximized')\n",
    "options.add_argument('--disable-extensions')"
   ]
  },
  {
   "cell_type": "code",
   "execution_count": 5,
   "metadata": {},
   "outputs": [
    {
     "name": "stderr",
     "output_type": "stream",
     "text": [
      "<ipython-input-5-dd25a7e2f722>:10: DeprecationWarning: use options instead of chrome_options\n",
      "  driver = webdriver.Chrome(driver_path, chrome_options=options)\n"
     ]
    }
   ],
   "source": [
    "# Ruta absoluta:\n",
    "\n",
    "# driver_path = 'C:\\\\Users\\\\LENOVO\\\\Downloads\\\\chromedriver_win32\\\\chromedriver.exe'\n",
    "\n",
    "#Ruta relativa\n",
    "\n",
    "driver_path = \"./chromedriver_win32/chromedriver.exe\"\n",
    "\n",
    "\n",
    "driver = webdriver.Chrome(driver_path, chrome_options=options)\n",
    "\n",
    "# Inicializamos el navegador\n",
    "driver.get('http://www.conapo.gob.mx/work/models/CONAPO/Mapa_Ind_Dem18/index.html?fbclid=IwAR18PcEPHfRoXyMhKYvwlAouEMECiu3f8PKg78H1rmqJ8xDYtXN2Dd21G2w')\n"
   ]
  },
  {
   "cell_type": "code",
   "execution_count": 7,
   "metadata": {},
   "outputs": [],
   "source": [
    "# PARA PONER EL AÑO\n",
    "\n",
    "boton = driver.find_element_by_xpath('//*[@id=\"divController\"]/div[3]/div[1]/div[2]/select').send_keys( '1970')\n"
   ]
  },
  {
   "cell_type": "code",
   "execution_count": 16,
   "metadata": {},
   "outputs": [
    {
     "data": {
      "text/plain": [
       "[]"
      ]
     },
     "execution_count": 16,
     "metadata": {},
     "output_type": "execute_result"
    }
   ],
   "source": [
    "boton = driver.find_elements_by_xpath('//*[@id=\"mapdiv\"]/div/div[1]/svg/g[7]/g/g[1]/path[30]')\n",
    "boton"
   ]
  },
  {
   "cell_type": "code",
   "execution_count": 8,
   "metadata": {},
   "outputs": [],
   "source": [
    "#Datos de todos los años\n",
    "datos=[]\n",
    "indice =[]\n",
    "m=0"
   ]
  },
  {
   "cell_type": "code",
   "execution_count": 9,
   "metadata": {},
   "outputs": [
    {
     "name": "stdout",
     "output_type": "stream",
     "text": [
      "Crecimiento natural :  53085\n",
      "Crecimiento social : ND\n",
      "Crecimiento total : ND\n",
      "Defunciones : 15367\n",
      "Edad mediana : 15.46\n",
      "Emigrantes interestatales : ND\n",
      "Emigrantes internacionales : ND\n",
      "Esperanza de vida al nacimiento hombres : 59.35\n",
      "Esperanza de vida al nacimiento mujeres : 63.38\n",
      "Esperanza de vida al nacimiento total : 61.3\n",
      "Hombres : 846487\n",
      "Índice de Envejecimiento : 7.26\n",
      "Inmigrantes interestatales : ND\n",
      "Inmigrantes internacionales : ND\n",
      "Migración neta interestatal : ND\n",
      "Migración neta internacional : ND\n",
      "Mujeres : 832094\n",
      "Nacimientos : 68452\n",
      "Población a mitad de año : 1678581\n",
      "Razón de dependencia adulta : 6.93\n",
      "Razón de dependencia infantil : 95.5\n",
      "Razón de dependencia total : 102.43\n",
      "Tasa bruta de mortalidad* : 9.15\n",
      "Tasa bruta de natalidad* : 40.78\n",
      "Tasa de crecimiento natural** : 3.16\n",
      "Tasa de crecimiento social** : ND\n",
      "Tasa de crecimiento total** : ND\n",
      "Tasa de emigración interestatal** : ND\n",
      "Tasa de inmigración interestatal** : ND\n",
      "Tasa de migración neta interestatal** : ND\n",
      "Tasa de migración neta internacional** : ND\n",
      "Tasa de mortalidad infantil hombres* : 71.04\n",
      "Tasa de mortalidad infantil mujeres* : 58.65\n",
      "Tasa de mortalidad infantil* : 65\n",
      "Tasa específica de fecundidad adolescente** : 149.68\n",
      "Tasa global de fecundidad : 6.05\n",
      "hola\n"
     ]
    }
   ],
   "source": [
    "caja =\"vacia\"\n",
    "   \n",
    "i=1\n",
    "\n",
    "#HACER UN WHILE \n",
    "\n",
    "while caja !=0 :\n",
    "    \n",
    "    try :\n",
    "        o=driver.find_element_by_xpath(f'.//*[@id=\"divController\"]/div[5]/div/a/ul/li[{i}]').text\n",
    "        datos.append(o)\n",
    "        print(o)\n",
    "        i=i+1\n",
    "        m =m+1\n",
    "        indice.append(m)\n",
    "    except:\n",
    "        print(\"hola\")\n",
    "        caja=0\n",
    "        \n",
    "    \n",
    "\n",
    "    \n",
    "\n",
    "        \n",
    "\n",
    "\n"
   ]
  },
  {
   "cell_type": "code",
   "execution_count": 10,
   "metadata": {},
   "outputs": [],
   "source": [
    "dicc={\"Datos\":datos}"
   ]
  },
  {
   "cell_type": "code",
   "execution_count": 11,
   "metadata": {},
   "outputs": [
    {
     "data": {
      "text/html": [
       "<div>\n",
       "<style scoped>\n",
       "    .dataframe tbody tr th:only-of-type {\n",
       "        vertical-align: middle;\n",
       "    }\n",
       "\n",
       "    .dataframe tbody tr th {\n",
       "        vertical-align: top;\n",
       "    }\n",
       "\n",
       "    .dataframe thead th {\n",
       "        text-align: right;\n",
       "    }\n",
       "</style>\n",
       "<table border=\"1\" class=\"dataframe\">\n",
       "  <thead>\n",
       "    <tr style=\"text-align: right;\">\n",
       "      <th></th>\n",
       "      <th>Datos</th>\n",
       "    </tr>\n",
       "  </thead>\n",
       "  <tbody>\n",
       "    <tr>\n",
       "      <th>1</th>\n",
       "      <td>Crecimiento natural :  53085</td>\n",
       "    </tr>\n",
       "    <tr>\n",
       "      <th>2</th>\n",
       "      <td>Crecimiento social : ND</td>\n",
       "    </tr>\n",
       "    <tr>\n",
       "      <th>3</th>\n",
       "      <td>Crecimiento total : ND</td>\n",
       "    </tr>\n",
       "    <tr>\n",
       "      <th>4</th>\n",
       "      <td>Defunciones : 15367</td>\n",
       "    </tr>\n",
       "    <tr>\n",
       "      <th>5</th>\n",
       "      <td>Edad mediana : 15.46</td>\n",
       "    </tr>\n",
       "    <tr>\n",
       "      <th>6</th>\n",
       "      <td>Emigrantes interestatales : ND</td>\n",
       "    </tr>\n",
       "    <tr>\n",
       "      <th>7</th>\n",
       "      <td>Emigrantes internacionales : ND</td>\n",
       "    </tr>\n",
       "    <tr>\n",
       "      <th>8</th>\n",
       "      <td>Esperanza de vida al nacimiento hombres : 59.35</td>\n",
       "    </tr>\n",
       "    <tr>\n",
       "      <th>9</th>\n",
       "      <td>Esperanza de vida al nacimiento mujeres : 63.38</td>\n",
       "    </tr>\n",
       "    <tr>\n",
       "      <th>10</th>\n",
       "      <td>Esperanza de vida al nacimiento total : 61.3</td>\n",
       "    </tr>\n",
       "    <tr>\n",
       "      <th>11</th>\n",
       "      <td>Hombres : 846487</td>\n",
       "    </tr>\n",
       "    <tr>\n",
       "      <th>12</th>\n",
       "      <td>Índice de Envejecimiento : 7.26</td>\n",
       "    </tr>\n",
       "    <tr>\n",
       "      <th>13</th>\n",
       "      <td>Inmigrantes interestatales : ND</td>\n",
       "    </tr>\n",
       "    <tr>\n",
       "      <th>14</th>\n",
       "      <td>Inmigrantes internacionales : ND</td>\n",
       "    </tr>\n",
       "    <tr>\n",
       "      <th>15</th>\n",
       "      <td>Migración neta interestatal : ND</td>\n",
       "    </tr>\n",
       "    <tr>\n",
       "      <th>16</th>\n",
       "      <td>Migración neta internacional : ND</td>\n",
       "    </tr>\n",
       "    <tr>\n",
       "      <th>17</th>\n",
       "      <td>Mujeres : 832094</td>\n",
       "    </tr>\n",
       "    <tr>\n",
       "      <th>18</th>\n",
       "      <td>Nacimientos : 68452</td>\n",
       "    </tr>\n",
       "    <tr>\n",
       "      <th>19</th>\n",
       "      <td>Población a mitad de año : 1678581</td>\n",
       "    </tr>\n",
       "    <tr>\n",
       "      <th>20</th>\n",
       "      <td>Razón de dependencia adulta : 6.93</td>\n",
       "    </tr>\n",
       "    <tr>\n",
       "      <th>21</th>\n",
       "      <td>Razón de dependencia infantil : 95.5</td>\n",
       "    </tr>\n",
       "    <tr>\n",
       "      <th>22</th>\n",
       "      <td>Razón de dependencia total : 102.43</td>\n",
       "    </tr>\n",
       "    <tr>\n",
       "      <th>23</th>\n",
       "      <td>Tasa bruta de mortalidad* : 9.15</td>\n",
       "    </tr>\n",
       "    <tr>\n",
       "      <th>24</th>\n",
       "      <td>Tasa bruta de natalidad* : 40.78</td>\n",
       "    </tr>\n",
       "    <tr>\n",
       "      <th>25</th>\n",
       "      <td>Tasa de crecimiento natural** : 3.16</td>\n",
       "    </tr>\n",
       "    <tr>\n",
       "      <th>26</th>\n",
       "      <td>Tasa de crecimiento social** : ND</td>\n",
       "    </tr>\n",
       "    <tr>\n",
       "      <th>27</th>\n",
       "      <td>Tasa de crecimiento total** : ND</td>\n",
       "    </tr>\n",
       "    <tr>\n",
       "      <th>28</th>\n",
       "      <td>Tasa de emigración interestatal** : ND</td>\n",
       "    </tr>\n",
       "    <tr>\n",
       "      <th>29</th>\n",
       "      <td>Tasa de inmigración interestatal** : ND</td>\n",
       "    </tr>\n",
       "    <tr>\n",
       "      <th>30</th>\n",
       "      <td>Tasa de migración neta interestatal** : ND</td>\n",
       "    </tr>\n",
       "    <tr>\n",
       "      <th>31</th>\n",
       "      <td>Tasa de migración neta internacional** : ND</td>\n",
       "    </tr>\n",
       "    <tr>\n",
       "      <th>32</th>\n",
       "      <td>Tasa de mortalidad infantil hombres* : 71.04</td>\n",
       "    </tr>\n",
       "    <tr>\n",
       "      <th>33</th>\n",
       "      <td>Tasa de mortalidad infantil mujeres* : 58.65</td>\n",
       "    </tr>\n",
       "    <tr>\n",
       "      <th>34</th>\n",
       "      <td>Tasa de mortalidad infantil* : 65</td>\n",
       "    </tr>\n",
       "    <tr>\n",
       "      <th>35</th>\n",
       "      <td>Tasa específica de fecundidad adolescente** : ...</td>\n",
       "    </tr>\n",
       "    <tr>\n",
       "      <th>36</th>\n",
       "      <td>Tasa global de fecundidad : 6.05</td>\n",
       "    </tr>\n",
       "  </tbody>\n",
       "</table>\n",
       "</div>"
      ],
      "text/plain": [
       "                                                Datos\n",
       "1                        Crecimiento natural :  53085\n",
       "2                             Crecimiento social : ND\n",
       "3                              Crecimiento total : ND\n",
       "4                                 Defunciones : 15367\n",
       "5                                Edad mediana : 15.46\n",
       "6                      Emigrantes interestatales : ND\n",
       "7                     Emigrantes internacionales : ND\n",
       "8     Esperanza de vida al nacimiento hombres : 59.35\n",
       "9     Esperanza de vida al nacimiento mujeres : 63.38\n",
       "10       Esperanza de vida al nacimiento total : 61.3\n",
       "11                                   Hombres : 846487\n",
       "12                    Índice de Envejecimiento : 7.26\n",
       "13                    Inmigrantes interestatales : ND\n",
       "14                   Inmigrantes internacionales : ND\n",
       "15                   Migración neta interestatal : ND\n",
       "16                  Migración neta internacional : ND\n",
       "17                                   Mujeres : 832094\n",
       "18                                Nacimientos : 68452\n",
       "19                 Población a mitad de año : 1678581\n",
       "20                 Razón de dependencia adulta : 6.93\n",
       "21               Razón de dependencia infantil : 95.5\n",
       "22                Razón de dependencia total : 102.43\n",
       "23                   Tasa bruta de mortalidad* : 9.15\n",
       "24                   Tasa bruta de natalidad* : 40.78\n",
       "25               Tasa de crecimiento natural** : 3.16\n",
       "26                  Tasa de crecimiento social** : ND\n",
       "27                   Tasa de crecimiento total** : ND\n",
       "28             Tasa de emigración interestatal** : ND\n",
       "29            Tasa de inmigración interestatal** : ND\n",
       "30         Tasa de migración neta interestatal** : ND\n",
       "31        Tasa de migración neta internacional** : ND\n",
       "32       Tasa de mortalidad infantil hombres* : 71.04\n",
       "33       Tasa de mortalidad infantil mujeres* : 58.65\n",
       "34                  Tasa de mortalidad infantil* : 65\n",
       "35  Tasa específica de fecundidad adolescente** : ...\n",
       "36                   Tasa global de fecundidad : 6.05"
      ]
     },
     "execution_count": 11,
     "metadata": {},
     "output_type": "execute_result"
    }
   ],
   "source": [
    "registro=pd.DataFrame(dicc,index=indice)\n",
    "registro"
   ]
  },
  {
   "cell_type": "code",
   "execution_count": null,
   "metadata": {},
   "outputs": [],
   "source": [
    "# Exportar la informacion en un excel:\n",
    "registro.to_excel( '../../../Desktop/Chihuahua_1970.xlsx')"
   ]
  },
  {
   "cell_type": "code",
   "execution_count": null,
   "metadata": {},
   "outputs": [],
   "source": [
    "inf1=driver.find_element_by_xpath('.//*[@id=\"divController\"]/div[5]/div/a/ul/li[1]').text\n",
    "inf1"
   ]
  },
  {
   "cell_type": "code",
   "execution_count": null,
   "metadata": {},
   "outputs": [],
   "source": [
    "inf2=driver.find_element_by_xpath('.//*[@id=\"divController\"]/div[5]/div/a/ul/li[2]').text\n",
    "inf2"
   ]
  },
  {
   "cell_type": "code",
   "execution_count": null,
   "metadata": {},
   "outputs": [],
   "source": [
    "inf3=driver.find_element_by_xpath('.//*[@id=\"divController\"]/div[5]/div/a/ul/li[3]').text\n",
    "inf3"
   ]
  },
  {
   "cell_type": "code",
   "execution_count": null,
   "metadata": {},
   "outputs": [],
   "source": [
    "inf4=driver.find_element_by_xpath('.//*[@id=\"divController\"]/div[5]/div/a/ul/li[4]').text\n",
    "inf4"
   ]
  },
  {
   "cell_type": "code",
   "execution_count": null,
   "metadata": {},
   "outputs": [],
   "source": [
    "inf5=driver.find_element_by_xpath('.//*[@id=\"divController\"]/div[5]/div/a/ul/li[5]').text\n",
    "inf5"
   ]
  },
  {
   "cell_type": "code",
   "execution_count": null,
   "metadata": {},
   "outputs": [],
   "source": [
    "inf6=driver.find_element_by_xpath('.//*[@id=\"divController\"]/div[5]/div/a/ul/li[6]').text\n",
    "inf6"
   ]
  },
  {
   "cell_type": "code",
   "execution_count": null,
   "metadata": {},
   "outputs": [],
   "source": [
    "inf7=driver.find_element_by_xpath('.//*[@id=\"divController\"]/div[5]/div/a/ul/li[7]').text\n",
    "inf7"
   ]
  },
  {
   "cell_type": "code",
   "execution_count": null,
   "metadata": {},
   "outputs": [],
   "source": [
    "inf8=driver.find_element_by_xpath('.//*[@id=\"divController\"]/div[5]/div/a/ul/li[8]').text\n",
    "inf8"
   ]
  },
  {
   "cell_type": "code",
   "execution_count": null,
   "metadata": {},
   "outputs": [],
   "source": [
    "inf9=driver.find_element_by_xpath('.//*[@id=\"divController\"]/div[5]/div/a/ul/li[9]').text\n",
    "inf9"
   ]
  },
  {
   "cell_type": "code",
   "execution_count": null,
   "metadata": {},
   "outputs": [],
   "source": [
    "inf7=driver.find_element_by_xpath('.//*[@id=\"divController\"]/div[5]/div/a/ul/li[10]').text\n",
    "inf7"
   ]
  },
  {
   "cell_type": "code",
   "execution_count": null,
   "metadata": {},
   "outputs": [],
   "source": [
    "inf7=driver.find_element_by_xpath('.//*[@id=\"divController\"]/div[5]/div/a/ul/li[7]').text\n",
    "inf7"
   ]
  },
  {
   "cell_type": "code",
   "execution_count": null,
   "metadata": {},
   "outputs": [],
   "source": [
    "inf7=driver.find_element_by_xpath('.//*[@id=\"divController\"]/div[5]/div/a/ul/li[7]').text\n",
    "inf7"
   ]
  },
  {
   "cell_type": "code",
   "execution_count": null,
   "metadata": {},
   "outputs": [],
   "source": [
    "inf7=driver.find_element_by_xpath('.//*[@id=\"divController\"]/div[5]/div/a/ul/li[7]').text\n",
    "inf7"
   ]
  },
  {
   "cell_type": "code",
   "execution_count": null,
   "metadata": {},
   "outputs": [],
   "source": [
    "inf7=driver.find_element_by_xpath('.//*[@id=\"divController\"]/div[5]/div/a/ul/li[7]').text\n",
    "inf7"
   ]
  },
  {
   "cell_type": "code",
   "execution_count": null,
   "metadata": {},
   "outputs": [],
   "source": [
    "inf7=driver.find_element_by_xpath('.//*[@id=\"divController\"]/div[5]/div/a/ul/li[7]').text\n",
    "inf7"
   ]
  }
 ],
 "metadata": {
  "kernelspec": {
   "display_name": "Python 3",
   "language": "python",
   "name": "python3"
  },
  "language_info": {
   "codemirror_mode": {
    "name": "ipython",
    "version": 3
   },
   "file_extension": ".py",
   "mimetype": "text/x-python",
   "name": "python",
   "nbconvert_exporter": "python",
   "pygments_lexer": "ipython3",
   "version": "3.8.5"
  }
 },
 "nbformat": 4,
 "nbformat_minor": 4
}
