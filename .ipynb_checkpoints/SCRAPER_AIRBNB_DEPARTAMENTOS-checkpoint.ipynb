{
 "cells": [
  {
   "cell_type": "code",
   "execution_count": 97,
   "metadata": {},
   "outputs": [],
   "source": [
    "# Exporto las librerias\n",
    "from selenium import webdriver\n",
    "from selenium.webdriver.support.ui import WebDriverWait\n",
    "from selenium.webdriver.support import expected_conditions as EC\n",
    "from selenium.webdriver.common.by import By\n",
    "import time\n",
    "from time import sleep\n",
    "import numpy as np\n",
    "import pandas as pd\n",
    "from pandas import Series,DataFrame\n",
    "import re\n",
    "from selenium.webdriver.common.alert import Alert\n",
    "from selenium.common.exceptions import NoSuchElementException\n",
    "from tqdm import tqdm_notebook as tqdm"
   ]
  },
  {
   "cell_type": "code",
   "execution_count": 98,
   "metadata": {},
   "outputs": [],
   "source": [
    "# Desabilitamos las extensiones\n",
    "options = webdriver.ChromeOptions()\n",
    "options.add_argument('--start-maximized')\n",
    "options.add_argument('--disable-extensions')"
   ]
  },
  {
   "cell_type": "code",
   "execution_count": 112,
   "metadata": {},
   "outputs": [
    {
     "name": "stderr",
     "output_type": "stream",
     "text": [
      "<ipython-input-112-64d2cb0df799>:10: DeprecationWarning: use options instead of chrome_options\n",
      "  driver = webdriver.Chrome(driver_path, chrome_options=options)\n"
     ]
    }
   ],
   "source": [
    "# Ruta absoluta:\n",
    "\n",
    "# driver_path = 'C:\\\\Users\\\\LENOVO\\\\Downloads\\\\chromedriver_win32\\\\chromedriver.exe'\n",
    "\n",
    "#Ruta relativa\n",
    "\n",
    "driver_path = \"./chromedriver_win32/chromedriver.exe\"\n",
    "\n",
    "\n",
    "driver = webdriver.Chrome(driver_path, chrome_options=options)\n",
    "\n",
    "# Inicializamos el navegador\n",
    "driver.get('https://www.airbnb.com.pe/?_set_bev_on_new_domain=1617320603_ZjNlY2UxNGQyMDRh')\n",
    "\n",
    "sleep(3)\n",
    "\n",
    "# boton para los cookies:\n",
    "boton_2 = driver.find_element_by_xpath('/html/body/div[6]/div/div/div[1]/section/footer/div[2]/button').click()\n",
    "\n",
    "\n"
   ]
  },
  {
   "cell_type": "code",
   "execution_count": 193,
   "metadata": {},
   "outputs": [
    {
     "data": {
      "text/plain": [
       "'1\\n2\\n3\\n4\\n5\\n…\\n12'"
      ]
     },
     "execution_count": 193,
     "metadata": {},
     "output_type": "execute_result"
    }
   ],
   "source": [
    "p= driver.find_element_by_css_selector('#ExploreLayoutController > div > div._10ljxo8 > div._1gw6tte > div > div > div._99vlue > nav > div').text\n",
    "p\n",
    "\n"
   ]
  },
  {
   "cell_type": "code",
   "execution_count": 186,
   "metadata": {},
   "outputs": [
    {
     "data": {
      "text/plain": [
       "['1', '2', '3', '4', '5', '…', '12']"
      ]
     },
     "execution_count": 186,
     "metadata": {},
     "output_type": "execute_result"
    }
   ],
   "source": [
    "p2\n"
   ]
  },
  {
   "cell_type": "code",
   "execution_count": 202,
   "metadata": {},
   "outputs": [
    {
     "data": {
      "text/plain": [
       "5"
      ]
     },
     "execution_count": 202,
     "metadata": {},
     "output_type": "execute_result"
    }
   ],
   "source": [
    "otra=driver.find_element_by_xpath('//*[@id=\"ExploreLayoutController\"]/div/div[1]/div[2]/div/div/div[1]/nav/div').text\n",
    "dos=2\n",
    "tres=len(otra)-dos\n",
    "tres"
   ]
  },
  {
   "cell_type": "code",
   "execution_count": 131,
   "metadata": {},
   "outputs": [
    {
     "data": {
      "text/plain": [
       "3"
      ]
     },
     "execution_count": 131,
     "metadata": {},
     "output_type": "execute_result"
    }
   ],
   "source": [
    "#ExploreLayoutController > div > div._10ljxo8 > div._1gw6tte > div > div > div._99vlue > nav > div"
   ]
  },
  {
   "cell_type": "code",
   "execution_count": null,
   "metadata": {},
   "outputs": [],
   "source": [
    "//*[@id=\"ExploreLayoutController\"]/div/div[1]/div[2]/div/div/div[1]/nav/div"
   ]
  },
  {
   "cell_type": "code",
   "execution_count": 81,
   "metadata": {},
   "outputs": [],
   "source": [
    "# Boton para poner el string de Busqueda :\n",
    "lugar = driver.find_element_by_xpath('//*[@id=\"bigsearch-query-detached-query\"]').send_keys ( 'Huaura') \n"
   ]
  },
  {
   "cell_type": "code",
   "execution_count": 82,
   "metadata": {},
   "outputs": [],
   "source": [
    "# Boton para busqueda:\n",
    "boton_buscar = driver.find_element_by_xpath('//span[@class=\"_m9v25n\"]').click()"
   ]
  },
  {
   "cell_type": "code",
   "execution_count": 84,
   "metadata": {},
   "outputs": [
    {
     "data": {
      "text/plain": [
       "2"
      ]
     },
     "execution_count": 84,
     "metadata": {},
     "output_type": "execute_result"
    }
   ],
   "source": [
    "sleep(3)\n",
    "a = driver.find_element_by_css_selector(\"#ExploreLayoutController > div._e296pg > div > div._1gw6tte > div > div > div._99vlue > nav > div > a._1y623pm\").text\n",
    "total_pages = int(a)\n",
    "total_pages\n"
   ]
  },
  {
   "cell_type": "code",
   "execution_count": 106,
   "metadata": {},
   "outputs": [],
   "source": [
    "\n",
    "def scraper_airbnb (region):\n",
    "    \n",
    "    driver_path = \"./chromedriver_win32/chromedriver.exe\"\n",
    "\n",
    "    driver = webdriver.Chrome(driver_path, chrome_options=options)\n",
    "\n",
    "    # Inicializamos el navegador\n",
    "    driver.get('https://www.airbnb.com.pe/?_set_bev_on_new_domain=1617320603_ZjNlY2UxNGQyMDRh')\n",
    "\n",
    "    sleep(3)\n",
    "\n",
    "    # boton para los cookies:\n",
    "    sleep(3)\n",
    "    boton_2 = driver.find_element_by_xpath('/html/body/div[6]/div/div/div[1]/section/footer/div[2]/button').click()\n",
    "    \n",
    "    # Boton para poner el string de Busqueda :\n",
    "    lugar = driver.find_element_by_xpath('//*[@id=\"bigsearch-query-detached-query\"]').send_keys ( region ) \n",
    "    \n",
    "    # Boton para busqueda:\n",
    "    boton_buscar = driver.find_element_by_xpath('//span[@class=\"_m9v25n\"]').click()\n",
    "\n",
    "    # Cantidad de paginas \n",
    "    sleep(3)\n",
    "    a = driver.find_element_by_css_selector(\"#ExploreLayoutController > div._e296pg > div > div._1gw6tte > div > div > div._99vlue > nav > div > a:nth-child(8)\").text\n",
    "    total_pages = int(a)\n",
    "\n",
    "    # Creamos las listas\n",
    "    Distrito = []\n",
    "    Depa =[]\n",
    "    Descripcion= []\n",
    "    Servicios = []\n",
    "    Precio = []\n",
    "    i =1\n",
    "    indice=[]\n",
    "    m=0\n",
    "\n",
    "    for j in range(0,total_pages ,1):\n",
    "\n",
    "        sleep( 15 )\n",
    "\n",
    "        datos = driver.find_elements_by_xpath('.//div[@class=\"_12oal24\"]')\n",
    "\n",
    "\n",
    "        for dato in datos : \n",
    "\n",
    "            #print (i)\n",
    "\n",
    "            # El Distrito o ubicacion \n",
    "            try:\n",
    "                inf1 = dato.find_element_by_xpath('.//div[@class=\"_r6zroz\"]').text\n",
    "                if inf1 :\n",
    "                    inf1_1 = inf1.split(\"\\n\")\n",
    "                    inf1_2 =inf1_1[0]\n",
    "                    #print(inf1_2)\n",
    "\n",
    "            except :\n",
    "                inf1_2 = \"no info\"\n",
    "\n",
    "            finally :\n",
    "                Distrito.append(inf1_2)\n",
    "\n",
    "\n",
    "            # Departamento\n",
    "            try :\n",
    "\n",
    "                inf2 = dato.find_element_by_xpath('.//div[@class=\"_r6zroz\"]').text\n",
    "                if inf2 :\n",
    "                    inf2_1 = inf2.split(\"\\n\")\n",
    "                    inf2_2 =inf2_1[1]\n",
    "                    #print(inf2_2)\n",
    "\n",
    "            except :\n",
    "                inf2_2 =  \" no info\"\n",
    "\n",
    "            finally :\n",
    "                Depa.append(inf2_2)\n",
    "\n",
    "            # Descripcion del Departamento \n",
    "            try :\n",
    "\n",
    "                inf3 = dato.find_element_by_xpath('.//div[3][@class=\"_kqh46o\"]').text\n",
    "                #print(inf3)\n",
    "            except :\n",
    "\n",
    "                inf3 =\"no info\"                 \n",
    "\n",
    "            finally:\n",
    "\n",
    "                Descripcion.append(inf3)\n",
    "\n",
    "            # Servicios Incluidos\n",
    "            try :\n",
    "                inf4 = dato.find_element_by_xpath('.//div[4][@class=\"_kqh46o\"]').text\n",
    "\n",
    "            except :\n",
    "\n",
    "                inf4 =\"no info\"\n",
    "\n",
    "            finally :           \n",
    "                Servicios.append(inf4)\n",
    "                #print(inf4)\n",
    "\n",
    "            # Precio por noche\n",
    "            try :\n",
    "                inf5 = dato.find_element_by_xpath('.//span[@class=\"_olc9rf0\"]').text\n",
    "                #print(inf5)\n",
    "\n",
    "            except:\n",
    "                inf5= \"no info\"\n",
    "\n",
    "            finally :\n",
    "                Precio.append(inf5)\n",
    "\n",
    "            # Para el indice\n",
    "\n",
    "                m=m+1\n",
    "                indice.append(m)\n",
    "\n",
    "\n",
    "                i=i+1\n",
    "\n",
    "        try:\n",
    "            boton_4= driver.find_element_by_xpath('//a[@class=\"_za9j7e\"]').click()\n",
    "        except:\n",
    "            print( \"pagina 15\")\n",
    "            \n",
    "    dicc={\"Ubicación\": Distrito , \"Caracterista_Departamento\" : Depa , \"Descripcion_Departamento\" : Descripcion , \"Servicios_Incluidos\":Servicios, \"Precio_por_Noche\":Precio }\n",
    "    data =pd.DataFrame(dicc,index=indice) \n",
    "    # Exportar la informacion en un excel:\n",
    "    region = region \n",
    "    path = '../../../Desktop/{}.xlsx'.format(region)\n",
    "    data.to_excel( path)\n",
    "            \n",
    "    return data\n"
   ]
  },
  {
   "cell_type": "code",
   "execution_count": 110,
   "metadata": {},
   "outputs": [
    {
     "name": "stderr",
     "output_type": "stream",
     "text": [
      "<ipython-input-106-f7860ea846ca>:5: DeprecationWarning: use options instead of chrome_options\n",
      "  driver = webdriver.Chrome(driver_path, chrome_options=options)\n"
     ]
    },
    {
     "name": "stdout",
     "output_type": "stream",
     "text": [
      "pagina 15\n"
     ]
    },
    {
     "ename": "NoSuchWindowException",
     "evalue": "Message: no such window: target window already closed\nfrom unknown error: web view not found\n  (Session info: chrome=89.0.4389.114)\n",
     "output_type": "error",
     "traceback": [
      "\u001b[1;31m---------------------------------------------------------------------------\u001b[0m",
      "\u001b[1;31mNoSuchWindowException\u001b[0m                     Traceback (most recent call last)",
      "\u001b[1;32m<ipython-input-110-6d6a1da8aece>\u001b[0m in \u001b[0;36m<module>\u001b[1;34m\u001b[0m\n\u001b[1;32m----> 1\u001b[1;33m \u001b[0mscraper_airbnb\u001b[0m\u001b[1;33m(\u001b[0m\u001b[0mregion\u001b[0m  \u001b[1;33m=\u001b[0m \u001b[1;34m\"huancavelica\"\u001b[0m\u001b[1;33m)\u001b[0m\u001b[1;33m\u001b[0m\u001b[1;33m\u001b[0m\u001b[0m\n\u001b[0m",
      "\u001b[1;32m<ipython-input-106-f7860ea846ca>\u001b[0m in \u001b[0;36mscraper_airbnb\u001b[1;34m(region)\u001b[0m\n\u001b[0;32m     39\u001b[0m         \u001b[0msleep\u001b[0m\u001b[1;33m(\u001b[0m \u001b[1;36m15\u001b[0m \u001b[1;33m)\u001b[0m\u001b[1;33m\u001b[0m\u001b[1;33m\u001b[0m\u001b[0m\n\u001b[0;32m     40\u001b[0m \u001b[1;33m\u001b[0m\u001b[0m\n\u001b[1;32m---> 41\u001b[1;33m         \u001b[0mdatos\u001b[0m \u001b[1;33m=\u001b[0m \u001b[0mdriver\u001b[0m\u001b[1;33m.\u001b[0m\u001b[0mfind_elements_by_xpath\u001b[0m\u001b[1;33m(\u001b[0m\u001b[1;34m'.//div[@class=\"_12oal24\"]'\u001b[0m\u001b[1;33m)\u001b[0m\u001b[1;33m\u001b[0m\u001b[1;33m\u001b[0m\u001b[0m\n\u001b[0m\u001b[0;32m     42\u001b[0m \u001b[1;33m\u001b[0m\u001b[0m\n\u001b[0;32m     43\u001b[0m \u001b[1;33m\u001b[0m\u001b[0m\n",
      "\u001b[1;32m~\\anaconda3\\lib\\site-packages\\selenium\\webdriver\\remote\\webdriver.py\u001b[0m in \u001b[0;36mfind_elements_by_xpath\u001b[1;34m(self, xpath)\u001b[0m\n\u001b[0;32m    408\u001b[0m             \u001b[0melements\u001b[0m \u001b[1;33m=\u001b[0m \u001b[0mdriver\u001b[0m\u001b[1;33m.\u001b[0m\u001b[0mfind_elements_by_xpath\u001b[0m\u001b[1;33m(\u001b[0m\u001b[1;34m\"//div[contains(@class, 'foo')]\"\u001b[0m\u001b[1;33m)\u001b[0m\u001b[1;33m\u001b[0m\u001b[1;33m\u001b[0m\u001b[0m\n\u001b[0;32m    409\u001b[0m         \"\"\"\n\u001b[1;32m--> 410\u001b[1;33m         \u001b[1;32mreturn\u001b[0m \u001b[0mself\u001b[0m\u001b[1;33m.\u001b[0m\u001b[0mfind_elements\u001b[0m\u001b[1;33m(\u001b[0m\u001b[0mby\u001b[0m\u001b[1;33m=\u001b[0m\u001b[0mBy\u001b[0m\u001b[1;33m.\u001b[0m\u001b[0mXPATH\u001b[0m\u001b[1;33m,\u001b[0m \u001b[0mvalue\u001b[0m\u001b[1;33m=\u001b[0m\u001b[0mxpath\u001b[0m\u001b[1;33m)\u001b[0m\u001b[1;33m\u001b[0m\u001b[1;33m\u001b[0m\u001b[0m\n\u001b[0m\u001b[0;32m    411\u001b[0m \u001b[1;33m\u001b[0m\u001b[0m\n\u001b[0;32m    412\u001b[0m     \u001b[1;32mdef\u001b[0m \u001b[0mfind_element_by_link_text\u001b[0m\u001b[1;33m(\u001b[0m\u001b[0mself\u001b[0m\u001b[1;33m,\u001b[0m \u001b[0mlink_text\u001b[0m\u001b[1;33m)\u001b[0m\u001b[1;33m:\u001b[0m\u001b[1;33m\u001b[0m\u001b[1;33m\u001b[0m\u001b[0m\n",
      "\u001b[1;32m~\\anaconda3\\lib\\site-packages\\selenium\\webdriver\\remote\\webdriver.py\u001b[0m in \u001b[0;36mfind_elements\u001b[1;34m(self, by, value)\u001b[0m\n\u001b[0;32m   1003\u001b[0m         \u001b[1;31m# Return empty list if driver returns null\u001b[0m\u001b[1;33m\u001b[0m\u001b[1;33m\u001b[0m\u001b[1;33m\u001b[0m\u001b[0m\n\u001b[0;32m   1004\u001b[0m         \u001b[1;31m# See https://github.com/SeleniumHQ/selenium/issues/4555\u001b[0m\u001b[1;33m\u001b[0m\u001b[1;33m\u001b[0m\u001b[1;33m\u001b[0m\u001b[0m\n\u001b[1;32m-> 1005\u001b[1;33m         return self.execute(Command.FIND_ELEMENTS, {\n\u001b[0m\u001b[0;32m   1006\u001b[0m             \u001b[1;34m'using'\u001b[0m\u001b[1;33m:\u001b[0m \u001b[0mby\u001b[0m\u001b[1;33m,\u001b[0m\u001b[1;33m\u001b[0m\u001b[1;33m\u001b[0m\u001b[0m\n\u001b[0;32m   1007\u001b[0m             'value': value})['value'] or []\n",
      "\u001b[1;32m~\\anaconda3\\lib\\site-packages\\selenium\\webdriver\\remote\\webdriver.py\u001b[0m in \u001b[0;36mexecute\u001b[1;34m(self, driver_command, params)\u001b[0m\n\u001b[0;32m    319\u001b[0m         \u001b[0mresponse\u001b[0m \u001b[1;33m=\u001b[0m \u001b[0mself\u001b[0m\u001b[1;33m.\u001b[0m\u001b[0mcommand_executor\u001b[0m\u001b[1;33m.\u001b[0m\u001b[0mexecute\u001b[0m\u001b[1;33m(\u001b[0m\u001b[0mdriver_command\u001b[0m\u001b[1;33m,\u001b[0m \u001b[0mparams\u001b[0m\u001b[1;33m)\u001b[0m\u001b[1;33m\u001b[0m\u001b[1;33m\u001b[0m\u001b[0m\n\u001b[0;32m    320\u001b[0m         \u001b[1;32mif\u001b[0m \u001b[0mresponse\u001b[0m\u001b[1;33m:\u001b[0m\u001b[1;33m\u001b[0m\u001b[1;33m\u001b[0m\u001b[0m\n\u001b[1;32m--> 321\u001b[1;33m             \u001b[0mself\u001b[0m\u001b[1;33m.\u001b[0m\u001b[0merror_handler\u001b[0m\u001b[1;33m.\u001b[0m\u001b[0mcheck_response\u001b[0m\u001b[1;33m(\u001b[0m\u001b[0mresponse\u001b[0m\u001b[1;33m)\u001b[0m\u001b[1;33m\u001b[0m\u001b[1;33m\u001b[0m\u001b[0m\n\u001b[0m\u001b[0;32m    322\u001b[0m             response['value'] = self._unwrap_value(\n\u001b[0;32m    323\u001b[0m                 response.get('value', None))\n",
      "\u001b[1;32m~\\anaconda3\\lib\\site-packages\\selenium\\webdriver\\remote\\errorhandler.py\u001b[0m in \u001b[0;36mcheck_response\u001b[1;34m(self, response)\u001b[0m\n\u001b[0;32m    240\u001b[0m                 \u001b[0malert_text\u001b[0m \u001b[1;33m=\u001b[0m \u001b[0mvalue\u001b[0m\u001b[1;33m[\u001b[0m\u001b[1;34m'alert'\u001b[0m\u001b[1;33m]\u001b[0m\u001b[1;33m.\u001b[0m\u001b[0mget\u001b[0m\u001b[1;33m(\u001b[0m\u001b[1;34m'text'\u001b[0m\u001b[1;33m)\u001b[0m\u001b[1;33m\u001b[0m\u001b[1;33m\u001b[0m\u001b[0m\n\u001b[0;32m    241\u001b[0m             \u001b[1;32mraise\u001b[0m \u001b[0mexception_class\u001b[0m\u001b[1;33m(\u001b[0m\u001b[0mmessage\u001b[0m\u001b[1;33m,\u001b[0m \u001b[0mscreen\u001b[0m\u001b[1;33m,\u001b[0m \u001b[0mstacktrace\u001b[0m\u001b[1;33m,\u001b[0m \u001b[0malert_text\u001b[0m\u001b[1;33m)\u001b[0m\u001b[1;33m\u001b[0m\u001b[1;33m\u001b[0m\u001b[0m\n\u001b[1;32m--> 242\u001b[1;33m         \u001b[1;32mraise\u001b[0m \u001b[0mexception_class\u001b[0m\u001b[1;33m(\u001b[0m\u001b[0mmessage\u001b[0m\u001b[1;33m,\u001b[0m \u001b[0mscreen\u001b[0m\u001b[1;33m,\u001b[0m \u001b[0mstacktrace\u001b[0m\u001b[1;33m)\u001b[0m\u001b[1;33m\u001b[0m\u001b[1;33m\u001b[0m\u001b[0m\n\u001b[0m\u001b[0;32m    243\u001b[0m \u001b[1;33m\u001b[0m\u001b[0m\n\u001b[0;32m    244\u001b[0m     \u001b[1;32mdef\u001b[0m \u001b[0m_value_or_default\u001b[0m\u001b[1;33m(\u001b[0m\u001b[0mself\u001b[0m\u001b[1;33m,\u001b[0m \u001b[0mobj\u001b[0m\u001b[1;33m,\u001b[0m \u001b[0mkey\u001b[0m\u001b[1;33m,\u001b[0m \u001b[0mdefault\u001b[0m\u001b[1;33m)\u001b[0m\u001b[1;33m:\u001b[0m\u001b[1;33m\u001b[0m\u001b[1;33m\u001b[0m\u001b[0m\n",
      "\u001b[1;31mNoSuchWindowException\u001b[0m: Message: no such window: target window already closed\nfrom unknown error: web view not found\n  (Session info: chrome=89.0.4389.114)\n"
     ]
    }
   ],
   "source": [
    "scraper_airbnb(region  = \"huancavelica\")"
   ]
  },
  {
   "cell_type": "code",
   "execution_count": null,
   "metadata": {},
   "outputs": [],
   "source": []
  }
 ],
 "metadata": {
  "kernelspec": {
   "display_name": "Python 3",
   "language": "python",
   "name": "python3"
  },
  "language_info": {
   "codemirror_mode": {
    "name": "ipython",
    "version": 3
   },
   "file_extension": ".py",
   "mimetype": "text/x-python",
   "name": "python",
   "nbconvert_exporter": "python",
   "pygments_lexer": "ipython3",
   "version": "3.8.5"
  }
 },
 "nbformat": 4,
 "nbformat_minor": 4
}
