{
 "cells": [
  {
   "cell_type": "code",
   "execution_count": 1,
   "metadata": {},
   "outputs": [
    {
     "name": "stderr",
     "output_type": "stream",
     "text": [
      "<ipython-input-1-550a2e14dc43>:26: DeprecationWarning: use options instead of chrome_options\n",
      "  driver = webdriver.Chrome(driver_path, chrome_options=options)\n"
     ]
    }
   ],
   "source": [
    "from selenium import webdriver\n",
    "from selenium.webdriver.support.ui import WebDriverWait\n",
    "from selenium.webdriver.support import expected_conditions as EC\n",
    "from selenium.webdriver.common.by import By\n",
    "import time\n",
    "from time import sleep\n",
    "import numpy as np\n",
    "import pandas as pd\n",
    "from pandas import Series,DataFrame\n",
    "import re\n",
    "\n",
    "\n",
    "options = webdriver.ChromeOptions()\n",
    "options.add_argument('--start-maximized')\n",
    "options.add_argument('--disable-extensions')\n",
    "\n",
    "# Ruta absoluta:\n",
    "\n",
    "# driver_path = 'C:\\\\Users\\\\LENOVO\\\\Downloads\\\\chromedriver_win32\\\\chromedriver.exe'\n",
    "\n",
    "#Ruta relativa\n",
    "\n",
    "driver_path = \"./chromedriver_win32/chromedriver.exe\"\n",
    "\n",
    "\n",
    "driver = webdriver.Chrome(driver_path, chrome_options=options)\n",
    "\n",
    "# Inicializamos el navegador\n",
    "driver.get('https://www.convocatoriascas.com')\n",
    "sleep(1)\n",
    "\n",
    "# inicializarla en la pantalla 2:\n",
    "\n",
    "driver.set_window_position(2000,0)\n",
    "driver.maximize_window()\n",
    "time.sleep(1)\n",
    "\n",
    "\n",
    "#creando listas vasias\n",
    "\n",
    "institucion =[]\n",
    "tipo_de_contrato = []\n",
    "n_vacantes = []\n",
    "fecha_limite = []\n",
    "lugar_de_trabajo = []\n",
    "remuneracion = []\n",
    "puestos_disponibles_para = []\n",
    "formacion_academica = []\n",
    "\n",
    "\n",
    "\n",
    "\n",
    "indice = []\n",
    "i = 0\n",
    "\n",
    "# esta linea nos ayudara a retener los titulos y darnos la cantidad de elementos con el metodo len:\n",
    "\n",
    "convocatorias = driver.find_elements_by_xpath('//article[@class=\"post\"]')\n",
    "\n",
    "\n",
    "# aca empesamos el nuevo procedimiento de entrar y salir dando clicks de todos los anuncios\n",
    "\n",
    "for i in range(1,20,1):\n",
    "    \n",
    "    \n",
    "    \n",
    "    try:\n",
    "\n",
    "        driver.find_element_by_xpath('//article[%s][@class=\"post\"]//a[contains(text(),\"\")]'%(i)).click()\n",
    "        \n",
    "        inf1 = driver.find_element_by_xpath('//div[@class=\"conv-item datos\"]/p[1]').text\n",
    "        institucion.append(inf1)\n",
    "\n",
    "        inf2 = driver.find_element_by_xpath('//div[@class=\"conv-item datos\"]/p[2]').text\n",
    "        tipo_de_contrato.append(inf2)\n",
    "        \n",
    "        inf3 = driver.find_element_by_xpath('//div[@class=\"conv-item datos\"]/p[3]').text\n",
    "        n_vacantes.append(inf3)\n",
    "    \n",
    "        inf4 = driver.find_element_by_xpath('//div[@class=\"conv-item datos\"]/p[4]').text\n",
    "        fecha_limite.append(inf4)\n",
    "    \n",
    "        inf5 = driver.find_element_by_xpath('//div[@class=\"conv-item datos\"]/p[5]').text\n",
    "        lugar_de_trabajo.append(inf5)\n",
    "    \n",
    "        inf6 = driver.find_element_by_xpath('//div[@class=\"conv-item datos\"]/p[6]').text\n",
    "        remuneracion.append(inf6)\n",
    " \n",
    "        inf7 = driver.find_element_by_xpath('//div[@class=\"conv-item datos\"]/p[7]').text\n",
    "        puestos_disponibles_para.append(inf7)\n",
    "        \n",
    "        driver.back()\n",
    "        time.sleep(2)\n",
    "    except:\n",
    "        break\n",
    "\n",
    "\n",
    "\n",
    "\n",
    "# #creamos una lista y una variable para crear el indice \n",
    "\n",
    "# indice = []\n",
    "# i = 0\n",
    "\n",
    "# for convocatoria in convocatorias:\n",
    "    \n",
    "#   # aca utilisamos el metodo de 'expreciones regulares'para poder editar o eliminar informacion innecesaria\n",
    "\n",
    "#     titulos = convocatoria.find_element_by_xpath('.//h2[@class=\"titulo\"]').text\n",
    "    \n",
    "#     match = re.search(r\".*:\\s(.*)|[0-9]+.*\", titulos)\n",
    "# #     match_2 =re.search(r\"[0-9]+.*\", titulos)\n",
    "\n",
    "#     if match:\n",
    "#         conv = match.group(1)    \n",
    "#     elif match_2:\n",
    "#         conv = match_2.group(0)\n",
    "        \n",
    "#     titulos_total.append(conv)\n",
    "    \n",
    "    \n",
    "#   #ACA EH DETALLADO LA BUSQUEDA CON MAS EXACTITUD CON EL METODO XPATH:\n",
    "#     detalles = convocatoria.find_element_by_xpath('.//div[@class=\"detalles\"]/p[position()=1]/strong').text\n",
    "#     entidad.append(detalles)\n",
    "    \n",
    "#     detalles_2 = convocatoria.find_element_by_xpath('.//div[@class=\"detalles\"]/p[position()=2]/strong').text\n",
    "#     departamentos.append(detalles_2)\n",
    "    \n",
    "#     detalles_3 = convocatoria.find_element_by_xpath('.//div[@class=\"detalles\"]/p[position()=3]/strong').text\n",
    "#     remuneracion.append(detalles_3)\n",
    "  \n",
    "#    #creamos el indice correcto\n",
    "\n",
    "#     i = i + 1\n",
    "    \n",
    "#     indice.append(i)\n",
    "    \n",
    "#     #creamos el diccionario\n",
    "\n",
    "# dicc = {\"Plazas\" : titulos_total , \"Entidad\" : entidad , \"Departamentos\" : departamentos , \"Remuneracion\" : remuneracion}\n",
    "\n",
    "#     #creamos el Dataframe\n",
    "\n",
    "# registro = pd.DataFrame(dicc, index = indice)\n",
    "# registro\n",
    "\n",
    "#     #lo guardamos como archivo exel en el escritorio\n",
    "\n",
    "# registro.to_excel( './Desktop/DATA_CAS.xlsx')\n",
    "\n",
    "#     # cerramos la pagina al terminar el proceso\n",
    "\n",
    "# driver.quit()"
   ]
  },
  {
   "cell_type": "code",
   "execution_count": 67,
   "metadata": {},
   "outputs": [
    {
     "data": {
      "text/plain": [
       "['► TIPO DE CONTRATO: LOCACIÓN']"
      ]
     },
     "execution_count": 67,
     "metadata": {},
     "output_type": "execute_result"
    }
   ],
   "source": [
    "tipo_de_contrato"
   ]
  },
  {
   "cell_type": "code",
   "execution_count": 70,
   "metadata": {},
   "outputs": [
    {
     "data": {
      "text/plain": [
       "['► Puestos disponibles para: Egresados Universitarios, Bachilleres, Titulados Universitarios']"
      ]
     },
     "execution_count": 70,
     "metadata": {},
     "output_type": "execute_result"
    }
   ],
   "source": [
    "puestos_disponibles_para"
   ]
  }
 ],
 "metadata": {
  "kernelspec": {
   "display_name": "Python 3",
   "language": "python",
   "name": "python3"
  },
  "language_info": {
   "codemirror_mode": {
    "name": "ipython",
    "version": 3
   },
   "file_extension": ".py",
   "mimetype": "text/x-python",
   "name": "python",
   "nbconvert_exporter": "python",
   "pygments_lexer": "ipython3",
   "version": "3.8.5"
  }
 },
 "nbformat": 4,
 "nbformat_minor": 4
}
