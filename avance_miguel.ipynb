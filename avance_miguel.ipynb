{
 "cells": [
  {
   "cell_type": "code",
   "execution_count": 1,
   "metadata": {},
   "outputs": [],
   "source": [
    "from selenium import webdriver\n",
    "from selenium.webdriver.support.ui import WebDriverWait\n",
    "from selenium.webdriver.support import expected_conditions as EC\n",
    "from selenium.webdriver.common.by import By\n",
    "import time\n",
    "from time import sleep\n",
    "import numpy as np\n",
    "import pandas as pd\n",
    "from pandas import Series,DataFrame\n",
    "import re\n"
   ]
  },
  {
   "cell_type": "code",
   "execution_count": 2,
   "metadata": {},
   "outputs": [],
   "source": [
    "options = webdriver.ChromeOptions()\n",
    "options.add_argument(\"--start-maximized\")\n",
    "options.add_argument(\"--disable-extensions\")"
   ]
  },
  {
   "cell_type": "code",
   "execution_count": 8,
   "metadata": {},
   "outputs": [],
   "source": [
    "# Ruta absoluta para mi pc :\n",
    "\n",
    "# driver_path = 'C:\\\\Users\\\\Test\\\\Downloads\\\\chromedriver_win32\\\\chromedriver.exe'\n",
    "\n",
    "#Ruta relativa para todos :\n",
    "\n",
    "driver_path = \"./chromedriver_win32/chromedriver.exe\"\n"
   ]
  },
  {
   "cell_type": "code",
   "execution_count": 15,
   "metadata": {},
   "outputs": [],
   "source": [
    "driver = webdriver.Chrome(driver_path, options=options)\n",
    "\n",
    "# Inicializamos el navegador\n",
    "driver.get('https://www.convocatoriascas.com')\n",
    "sleep(1)\n",
    "\n",
    "convocatorias = driver.find_elements_by_xpath('//article[@class=\"post\"]')\n",
    "\n",
    "#creando listas vacias\n",
    "titulos_total = []\n",
    "entidad = []\n",
    "departamentos = []\n",
    "remuneracion = []\n",
    "\n",
    "\n",
    "#creamos una lista y una variable para crear el indice \n",
    "\n",
    "indice = []\n",
    "i = 0\n",
    "\n",
    "for convocatoria in convocatorias:\n",
    "    \n",
    "    \n",
    "  # aca utilisamos el metodo de 'expreciones regulares'para poder editar o eliminar informacion innecesaria\n",
    "\n",
    "    titulos = convocatoria.find_element_by_xpath('.//h2[@class=\"titulo\"]').text\n",
    "    \n",
    "    match = re.search(r\".*:\\s(.*)\", titulos)\n",
    "    match_2 =re.search(r\"[0-9]+.*\", titulos)\n",
    "\n",
    "    if match:\n",
    "        conv = match.group(1)    \n",
    "    elif match_2:\n",
    "        conv = match_2.group(0)\n",
    "  \n",
    "    \n",
    "    \n",
    "    titulos_total.append(conv)\n",
    "    \n",
    "  #ACA EH DETALLADO LA BUSQUEDA CON MAS EXACTITUD CON EL METODO XPATH:\n",
    "\n",
    "    detalles = convocatoria.find_element_by_xpath('.//div[@class=\"detalles\"]/p[position()=1]/strong').text\n",
    "    entidad.append(detalles)\n",
    "    \n",
    "    detalles_2 = convocatoria.find_element_by_xpath('.//div[@class=\"detalles\"]/p[position()=2]/strong').text\n",
    "    departamentos.append(detalles_2)\n",
    "    \n",
    "    detalles_3 = convocatoria.find_element_by_xpath('.//div[@class=\"detalles\"]/p[position()=3]/strong').text\n",
    "    remuneracion.append(detalles_3)\n",
    "  \n",
    "   #creamos el indice correcto\n",
    "\n",
    "    i = i + 1\n",
    "    \n",
    "    indice.append(i)\n",
    "    \n",
    "    #creamos el diccionario\n",
    "\n",
    "dicc = {\"Plazas\" : titulos_total , \"Entidad\" : entidad , \"Departamentos\" : departamentos , \"Remuneracion\" : remuneracion}\n",
    "\n",
    "    #creamos el Dataframe\n",
    "\n",
    "registro = pd.DataFrame(dicc, index = indice)\n",
    "\n",
    "    #lo guardamos como archivo exel en el escritorio utilisando una ruta relativa\n",
    "\n",
    "registro.to_excel( '../../../Desktop/DATA_CAS.xlsx')\n",
    "\n",
    "    # cerramos la pagina al terminar el proceso\n",
    "\n",
    "#driver.quit()"
   ]
  },
  {
   "cell_type": "code",
   "execution_count": 28,
   "metadata": {},
   "outputs": [],
   "source": [
    "from selenium import webdriver\n",
    "from selenium.webdriver.common.by import By\n",
    "from selenium.webdriver.support.ui import WebDriverWait \n",
    "from selenium.webdriver.support import expected_conditions as EC"
   ]
  },
  {
   "cell_type": "code",
   "execution_count": 32,
   "metadata": {},
   "outputs": [
    {
     "name": "stdout",
     "output_type": "stream",
     "text": [
      "1\n"
     ]
    },
    {
     "ename": "TimeoutException",
     "evalue": "Message: \n",
     "output_type": "error",
     "traceback": [
      "\u001b[1;31m---------------------------------------------------------------------------\u001b[0m",
      "\u001b[1;31mTimeoutException\u001b[0m                          Traceback (most recent call last)",
      "\u001b[1;32m<ipython-input-32-ca42be11e5b1>\u001b[0m in \u001b[0;36m<module>\u001b[1;34m\u001b[0m\n\u001b[0;32m     13\u001b[0m     \u001b[1;31m#convocatoria.find_element_by_xpath('.//h2[@class=\"titulo\"]').click()\u001b[0m\u001b[1;33m\u001b[0m\u001b[1;33m\u001b[0m\u001b[1;33m\u001b[0m\u001b[0m\n\u001b[0;32m     14\u001b[0m \u001b[1;33m\u001b[0m\u001b[0m\n\u001b[1;32m---> 15\u001b[1;33m     \u001b[0mWebDriverWait\u001b[0m\u001b[1;33m(\u001b[0m\u001b[0mdriver\u001b[0m\u001b[1;33m,\u001b[0m \u001b[1;36m20\u001b[0m\u001b[1;33m)\u001b[0m\u001b[1;33m.\u001b[0m\u001b[0muntil\u001b[0m\u001b[1;33m(\u001b[0m\u001b[0mEC\u001b[0m\u001b[1;33m.\u001b[0m\u001b[0mframe_to_be_available_and_switch_to_it\u001b[0m\u001b[1;33m(\u001b[0m\u001b[1;33m(\u001b[0m\u001b[0mBy\u001b[0m\u001b[1;33m.\u001b[0m\u001b[0mXPATH\u001b[0m\u001b[1;33m,\u001b[0m\u001b[1;34m'/html/body/div/div/div[2]/iframe'\u001b[0m\u001b[1;33m)\u001b[0m\u001b[1;33m)\u001b[0m\u001b[1;33m)\u001b[0m\u001b[1;33m\u001b[0m\u001b[1;33m\u001b[0m\u001b[0m\n\u001b[0m\u001b[0;32m     16\u001b[0m \u001b[1;33m\u001b[0m\u001b[0m\n\u001b[0;32m     17\u001b[0m \u001b[1;33m\u001b[0m\u001b[0m\n",
      "\u001b[1;32m~\\anaconda3\\lib\\site-packages\\selenium\\webdriver\\support\\wait.py\u001b[0m in \u001b[0;36muntil\u001b[1;34m(self, method, message)\u001b[0m\n\u001b[0;32m     78\u001b[0m             \u001b[1;32mif\u001b[0m \u001b[0mtime\u001b[0m\u001b[1;33m.\u001b[0m\u001b[0mtime\u001b[0m\u001b[1;33m(\u001b[0m\u001b[1;33m)\u001b[0m \u001b[1;33m>\u001b[0m \u001b[0mend_time\u001b[0m\u001b[1;33m:\u001b[0m\u001b[1;33m\u001b[0m\u001b[1;33m\u001b[0m\u001b[0m\n\u001b[0;32m     79\u001b[0m                 \u001b[1;32mbreak\u001b[0m\u001b[1;33m\u001b[0m\u001b[1;33m\u001b[0m\u001b[0m\n\u001b[1;32m---> 80\u001b[1;33m         \u001b[1;32mraise\u001b[0m \u001b[0mTimeoutException\u001b[0m\u001b[1;33m(\u001b[0m\u001b[0mmessage\u001b[0m\u001b[1;33m,\u001b[0m \u001b[0mscreen\u001b[0m\u001b[1;33m,\u001b[0m \u001b[0mstacktrace\u001b[0m\u001b[1;33m)\u001b[0m\u001b[1;33m\u001b[0m\u001b[1;33m\u001b[0m\u001b[0m\n\u001b[0m\u001b[0;32m     81\u001b[0m \u001b[1;33m\u001b[0m\u001b[0m\n\u001b[0;32m     82\u001b[0m     \u001b[1;32mdef\u001b[0m \u001b[0muntil_not\u001b[0m\u001b[1;33m(\u001b[0m\u001b[0mself\u001b[0m\u001b[1;33m,\u001b[0m \u001b[0mmethod\u001b[0m\u001b[1;33m,\u001b[0m \u001b[0mmessage\u001b[0m\u001b[1;33m=\u001b[0m\u001b[1;34m''\u001b[0m\u001b[1;33m)\u001b[0m\u001b[1;33m:\u001b[0m\u001b[1;33m\u001b[0m\u001b[1;33m\u001b[0m\u001b[0m\n",
      "\u001b[1;31mTimeoutException\u001b[0m: Message: \n"
     ]
    }
   ],
   "source": [
    "driver = webdriver.Chrome(driver_path, options=options)\n",
    "\n",
    "# Inicializamos el navegador\n",
    "driver.get('https://www.convocatoriascas.com')\n",
    "sleep(1)\n",
    "\n",
    "for i in range(1,20,1):\n",
    "    print(i)\n",
    "  # aca utilisamos el metodo de 'expreciones regulares'para poder editar o eliminar informacion innecesaria\n",
    "    \n",
    "    #driver.find_element_by_xpath(\"/html/body/section[1]/section/article[1]/div[2]/h2/a\").click\n",
    "         \n",
    "    #convocatoria.find_element_by_xpath('.//h2[@class=\"titulo\"]').click()\n",
    "\n",
    "    WebDriverWait(driver, 20).until(EC.frame_to_be_available_and_switch_to_it((By.XPATH,'/html/body/div/div/div[2]/iframe')))\n",
    "    \n",
    "    # ccss SELECTOR\n",
    "    # CLOSE ADVERTISEMENT SELENOIUM PYTHON\n",
    "    # pROBAR HTML PATH \n",
    "    # button = driver.find_element_by_class_name('ytp-ad-skip-button-container')\n",
    "            button.click()\n",
    "\n",
    "    driver.find_element_by_xpath('/html/body/section[1]/section/article[%s]/div[2]/h2'%(i)).click()\n",
    "    # anuncio\n",
    "    #driver.find_element_by_xpath('//*[@id=\"ad_position_box\"]').click()\n",
    "    #driver.switch_to_window(driver.window_handles[1])\n",
    "    #WebDriverWait(driver, 20).until(EC.element_to_be_clickable((By.ID,\"CloseLink\"))).click()\n",
    "    \n",
    "    #driver.switch_to_window(driver.window_handles[1])\n",
    "    # xpath\n",
    "    time.sleep(2)\n",
    "\n",
    "    #driver.switch_to_alert().accept()\n",
    "    \n",
    "    \n",
    "    dato= driver.find_elements_by_xpath('.//div[@class=\"conv-item datos\"]')\n",
    "\n",
    "    Dato.append(dato)\n",
    "    \n",
    "    # INSTITUCIONES\n",
    "    institucion=driver.find_element_by_xpath('/html/body/section[1]/div/section/div[4]/p[1]').text\n",
    "    Inst.append(institucion)\n",
    "    print(institucion)\n",
    "\n",
    "    # CONTRATO\n",
    "    contrato =driver.find_element_by_xpath(' /html/body/section[1]/div/section/div[4]/p[2]').text\n",
    "    match = re.search(r\".*:\\s(.*)\", contrato)\n",
    "    if match:\n",
    "        cont = match.group(1)\n",
    "    \n",
    "    Contrato.append(cont)\n",
    "    \n",
    "    # VACANTE\n",
    "    vacante =driver.find_element_by_xpath(' /html/body/section[1]/div/section/div[4]/p[3]').text\n",
    "    match2 = re.search(r\".*:\\s(.*)\", vacante)\n",
    "    if match:\n",
    "        vac = match2.group(1) \n",
    "    \n",
    "    Vacantes.append(vac)\n",
    "    \n",
    "    # POSTULACION\n",
    "    postulacion=driver.find_element_by_xpath(' /html/body/section[1]/div/section/div[4]/p[4]').text\n",
    "    match3 = re.search(r\".*:\\s(.*)\", postulacion)\n",
    "    if match3:\n",
    "        post = match3.group(1) \n",
    "    \n",
    "    Postulaciones.append( post )\n",
    "    \n",
    "    # LUGARES\n",
    "    lugar=driver.find_element_by_xpath(' /html/body/section[1]/div/section/div[4]/p[5]').text\n",
    "    match4 = re.search(r\".*:\\s(.*)\", lugar)\n",
    "    if match4:\n",
    "        lug = match4.group(1) \n",
    "\n",
    "    Lugares.append(lug)\n",
    "    \n",
    "    # SUELDOS\n",
    "    sueldo=driver.find_element_by_xpath(' /html/body/section[1]/div/section/div[4]/p[6]').text\n",
    "    match5 = re.search(r\".*:\\s(.*)\", sueldo)\n",
    "    if match5:\n",
    "        sue = match5.group(1) \n",
    "\n",
    "    Sueldos.append(sue)\n",
    "    \n",
    "    # PUESTOS DISPONIBLES\n",
    "    pues_disp=driver.find_element_by_xpath(' /html/body/section[1]/div/section/div[5]/p[1]').text\n",
    "    match6 = re.search(r\".*:\\s(.*)\", pues_disp)\n",
    "    if match5:\n",
    "        pu_di = match6.group(1) \n",
    "\n",
    "    Pues_dispo.append(pu_di)\n",
    "\n",
    "\n",
    "    ############\n",
    "    \n",
    "    \n",
    "    driver.back()\n",
    "    \n",
    "    time.sleep(1)"
   ]
  },
  {
   "cell_type": "code",
   "execution_count": 12,
   "metadata": {},
   "outputs": [
    {
     "data": {
      "text/plain": [
       "['728', '728']"
      ]
     },
     "execution_count": 12,
     "metadata": {},
     "output_type": "execute_result"
    }
   ],
   "source": [
    "Contrato"
   ]
  },
  {
   "cell_type": "code",
   "execution_count": 13,
   "metadata": {},
   "outputs": [
    {
     "data": {
      "text/plain": [
       "['2021-03-30', '2021-03-30']"
      ]
     },
     "execution_count": 13,
     "metadata": {},
     "output_type": "execute_result"
    }
   ],
   "source": [
    "Postulaciones"
   ]
  },
  {
   "cell_type": "code",
   "execution_count": 14,
   "metadata": {},
   "outputs": [
    {
     "data": {
      "text/plain": [
       "['Derecho']"
      ]
     },
     "execution_count": 14,
     "metadata": {},
     "output_type": "execute_result"
    }
   ],
   "source": [
    "Pues_dispo"
   ]
  },
  {
   "cell_type": "code",
   "execution_count": 39,
   "metadata": {},
   "outputs": [
    {
     "data": {
      "text/plain": [
       "'► Institución: MINISTERIO PÚBLICO - FISCALÍA\\nConsulta AQUI otras Convocatorias de esta Institución'"
      ]
     },
     "execution_count": 39,
     "metadata": {},
     "output_type": "execute_result"
    }
   ],
   "source": [
    "institucion"
   ]
  },
  {
   "cell_type": "code",
   "execution_count": 24,
   "metadata": {},
   "outputs": [
    {
     "data": {
      "text/plain": [
       "['► Institución: MINISTERIO PÚBLICO - FISCALÍA',\n",
       " 'Consulta AQUI otras Convocatorias de esta Institución']"
      ]
     },
     "execution_count": 24,
     "metadata": {},
     "output_type": "execute_result"
    }
   ],
   "source": [
    "no = institucion.split(\"\\n\")\n",
    "no"
   ]
  },
  {
   "cell_type": "code",
   "execution_count": null,
   "metadata": {},
   "outputs": [],
   "source": [
    "si_4="
   ]
  },
  {
   "cell_type": "code",
   "execution_count": 32,
   "metadata": {},
   "outputs": [
    {
     "data": {
      "text/plain": [
       "'► Institución: MINISTERIO PÚBLICO - FISCALÍA'"
      ]
     },
     "execution_count": 32,
     "metadata": {},
     "output_type": "execute_result"
    }
   ],
   "source": [
    "si=no[0]\n"
   ]
  },
  {
   "cell_type": "code",
   "execution_count": 38,
   "metadata": {},
   "outputs": [
    {
     "data": {
      "text/plain": [
       "' MINISTERIO PÚBLICO - FISCALÍA'"
      ]
     },
     "execution_count": 38,
     "metadata": {},
     "output_type": "execute_result"
    }
   ],
   "source": [
    "si_3=si_2[1]\n",
    "si_3"
   ]
  },
  {
   "cell_type": "code",
   "execution_count": 36,
   "metadata": {},
   "outputs": [
    {
     "data": {
      "text/plain": [
       "['► Institución', ' MINISTERIO PÚBLICO - FISCALÍA']"
      ]
     },
     "execution_count": 36,
     "metadata": {},
     "output_type": "execute_result"
    }
   ],
   "source": [
    "si_2=si.split(\":\")\n",
    "si_2"
   ]
  },
  {
   "cell_type": "code",
   "execution_count": 16,
   "metadata": {},
   "outputs": [
    {
     "data": {
      "text/plain": [
       "['2 puesto(s) de trabajo', '2 puesto(s) de trabajo']"
      ]
     },
     "execution_count": 16,
     "metadata": {},
     "output_type": "execute_result"
    }
   ],
   "source": [
    "Vacantes"
   ]
  },
  {
   "cell_type": "code",
   "execution_count": null,
   "metadata": {},
   "outputs": [],
   "source": [
    "  dato_1 = institucion.split(\"\\n\")\n",
    "    datos_2=datos_1[0]\n",
    "    datos_3=datos_2.split(\":\")\n",
    "    datos_4=datos_3[1]"
   ]
  },
  {
   "cell_type": "code",
   "execution_count": 15,
   "metadata": {},
   "outputs": [
    {
     "data": {
      "text/plain": [
       "'► Institución:'"
      ]
     },
     "execution_count": 15,
     "metadata": {},
     "output_type": "execute_result"
    }
   ],
   "source": [
    "institucion"
   ]
  },
  {
   "cell_type": "code",
   "execution_count": 27,
   "metadata": {},
   "outputs": [
    {
     "data": {
      "text/plain": [
       "'► TIPO DE CONTRATO:'"
      ]
     },
     "execution_count": 27,
     "metadata": {},
     "output_type": "execute_result"
    }
   ],
   "source": [
    "contrato"
   ]
  },
  {
   "cell_type": "code",
   "execution_count": null,
   "metadata": {},
   "outputs": [],
   "source": []
  }
 ],
 "metadata": {
  "kernelspec": {
   "display_name": "Python 3",
   "language": "python",
   "name": "python3"
  },
  "language_info": {
   "codemirror_mode": {
    "name": "ipython",
    "version": 3
   },
   "file_extension": ".py",
   "mimetype": "text/x-python",
   "name": "python",
   "nbconvert_exporter": "python",
   "pygments_lexer": "ipython3",
   "version": "3.8.3"
  }
 },
 "nbformat": 4,
 "nbformat_minor": 4
}
