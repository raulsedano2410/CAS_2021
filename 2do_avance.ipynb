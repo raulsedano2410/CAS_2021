{
 "cells": [
  {
   "cell_type": "code",
   "execution_count": 68,
   "metadata": {
    "scrolled": true
   },
   "outputs": [
    {
     "name": "stderr",
     "output_type": "stream",
     "text": [
      "<ipython-input-68-6e7cbe880284>:26: DeprecationWarning: use options instead of chrome_options\n",
      "  driver = webdriver.Chrome(driver_path, chrome_options=options)\n"
     ]
    },
    {
     "name": "stdout",
     "output_type": "stream",
     "text": [
      "1\n",
      "2\n",
      "3\n",
      "4\n",
      "5\n",
      "6\n",
      "7\n",
      "8\n",
      "9\n",
      "10\n",
      "11\n",
      "12\n",
      "13\n",
      "14\n",
      "15\n",
      "16\n",
      "17\n",
      "18\n",
      "19\n",
      "20\n",
      "21\n",
      "22\n",
      "23\n",
      "24\n",
      "25\n",
      "26\n",
      "27\n",
      "28\n",
      "29\n",
      "30\n",
      "31\n",
      "32\n",
      "33\n",
      "34\n",
      "35\n",
      "36\n",
      "37\n",
      "38\n",
      "39\n",
      "40\n"
     ]
    }
   ],
   "source": [
    "from selenium import webdriver\n",
    "from selenium.webdriver.support.ui import WebDriverWait\n",
    "from selenium.webdriver.support import expected_conditions as EC\n",
    "from selenium.webdriver.common.by import By\n",
    "import time\n",
    "from time import sleep\n",
    "import numpy as np\n",
    "import pandas as pd\n",
    "from pandas import Series,DataFrame\n",
    "import re\n",
    "\n",
    "\n",
    "options = webdriver.ChromeOptions()\n",
    "options.add_argument('--start-maximized')\n",
    "options.add_argument('--disable-extensions')\n",
    "\n",
    "# Ruta absoluta:\n",
    "\n",
    "driver_path = 'C:\\\\Users\\\\LENOVO\\\\Downloads\\\\chromedriver_win32\\\\chromedriver.exe'\n",
    "\n",
    "#Ruta relativa\n",
    "\n",
    "# driver_path = \"./chromedriver_win32/chromedriver.exe\"\n",
    "\n",
    "\n",
    "driver = webdriver.Chrome(driver_path, chrome_options=options)\n",
    "\n",
    "# Inicializamos el navegador\n",
    "driver.get('https://www.convocatoriascas.com')\n",
    "\n",
    "\n",
    "# inicializarla en la pantalla 2:\n",
    "\n",
    "driver.set_window_position(2000,0)\n",
    "driver.maximize_window()\n",
    "\n",
    "\n",
    "#creando listas vasias\n",
    "\n",
    "institucion =[]\n",
    "tipo_de_contrato = []\n",
    "n_vacantes = []\n",
    "fecha_limite = []\n",
    "lugar_de_trabajo = []\n",
    "remuneracion = []\n",
    "puestos_disponibles_para = []\n",
    "formacion_academica = []\n",
    "\n",
    "\n",
    "indice = []\n",
    "\n",
    "\n",
    "# esta linea nos ayudara a retener los titulos y darnos la cantidad de elementos con el metodo len:\n",
    "\n",
    "convocatorias = driver.find_elements_by_xpath('//article[@class=\"post\"]')\n",
    "\n",
    "\n",
    "# aca empesamos el nuevo procedimiento de entrar y salir dando clicks de todos los anuncios\n",
    "\n",
    "for i in range(1,len(convocatorias),1):\n",
    "    \n",
    "# sin este try-except el  WebDriverWait no corre\n",
    "\n",
    "    try:\n",
    "\n",
    "        driver.find_element_by_xpath(\"//article[%s][@class='post']//a[contains(text(),'')]\"%(i)).click()\n",
    "        print(i)\n",
    "        sleep(3)\n",
    "        \n",
    "        inf1 = driver.find_element_by_xpath(\"//div[@class='conv-item datos']/p[1]\").text\n",
    "        institucion.append(inf1)\n",
    "\n",
    "        \n",
    "        inf2 = driver.find_element_by_xpath(\"//div[@class='conv-item datos']/p[2]\").text\n",
    "        tipo_de_contrato.append(inf2)\n",
    "\n",
    "        inf3 = driver.find_element_by_xpath(\"//div[@class='conv-item datos']/p[3]\").text\n",
    "        n_vacantes.append(inf3)\n",
    "\n",
    "        inf4 = driver.find_element_by_xpath(\"//div[@class='conv-item datos']/p[4]\").text\n",
    "        fecha_limite.append(inf4)\n",
    "\n",
    "        inf5 = driver.find_element_by_xpath(\"//div[@class='conv-item datos']/p[5]\").text\n",
    "        lugar_de_trabajo.append(inf5)\n",
    "\n",
    "        inf6 = driver.find_element_by_xpath(\"//div[@class='conv-item datos']/p[6]\").text\n",
    "        remuneracion.append(inf6)\n",
    "\n",
    "        inf7 = driver.find_element_by_xpath(\"//div[@class='conv-item datos']/p[7]\").text\n",
    "        puestos_disponibles_para.append(inf7)\n",
    "        \n",
    "        inf8 = driver.find_element_by_xpath(\"//div[@class='conv-texto1']/p[1]\").text\n",
    "        formacion_academica.append(inf8)\n",
    "        \n",
    "# y es este WebDriverWait el que nos ayudara a clickear el anuncio\n",
    "\n",
    "        WebDriverWait(driver,5)\\\n",
    "        .until(EC.element_to_be_clickable(By.CSS_SELECTOR,\n",
    "                                          'div.ns-n73fy-e-14 button-common close-button'.replace(' ','.')))\\\n",
    "        .click()\n",
    "        sleep(3)\n",
    "\n",
    "  # sin este try-except el  WebDriverWait no corre\n",
    "\n",
    "    except:\n",
    "        pass\n",
    "\n",
    "\n",
    "    driver.back()\n",
    "    sleep(3)\n",
    "\n"
   ]
  },
  {
   "cell_type": "code",
   "execution_count": 69,
   "metadata": {},
   "outputs": [
    {
     "data": {
      "text/plain": [
       "39"
      ]
     },
     "execution_count": 69,
     "metadata": {},
     "output_type": "execute_result"
    }
   ],
   "source": [
    "len(institucion)"
   ]
  },
  {
   "cell_type": "code",
   "execution_count": 76,
   "metadata": {
    "scrolled": true
   },
   "outputs": [
    {
     "data": {
      "text/plain": [
       "'► Institución: ESSALUD\\nConsulta AQUI otras Convocatorias de esta Institución'"
      ]
     },
     "execution_count": 76,
     "metadata": {},
     "output_type": "execute_result"
    }
   ],
   "source": [
    "institucion[6]"
   ]
  },
  {
   "cell_type": "code",
   "execution_count": 60,
   "metadata": {},
   "outputs": [
    {
     "data": {
      "text/plain": [
       "['► Formación académica(según puesto): Arquitectura, Biología, Geografía, Ingeniero Zootecnista, Ingeniería Agroindustrial, Ingeniería Agrícola, Ingeniería Agrónoma, Ingeniería Civil, Ingeniería Eléctrica, Ingeniería Forestal, Ingeniería Mecánica Eléctrica, Ingeniería Mecánica, Ingeniería Química, Ingeniería Sanitaria, Medicina, Medicina Veterinaria, Zootecnia, Administración, Antropología Social, Arqueología, Ciencias de la Comunicación, Contabilidad, Derecho, Enfermería, Historia, Agroforestal, en Industrias Alimentarias',\n",
       " '► Formación académica(según puesto): Ginecología, Medicina Intensiva, Medicina Interna, Radiología, Tecnología Médica, Enfermería, Laboratorio, Médico Cirujano']"
      ]
     },
     "execution_count": 60,
     "metadata": {},
     "output_type": "execute_result"
    }
   ],
   "source": [
    "formacion_academica\n"
   ]
  }
 ],
 "metadata": {
  "kernelspec": {
   "display_name": "Python 3",
   "language": "python",
   "name": "python3"
  },
  "language_info": {
   "codemirror_mode": {
    "name": "ipython",
    "version": 3
   },
   "file_extension": ".py",
   "mimetype": "text/x-python",
   "name": "python",
   "nbconvert_exporter": "python",
   "pygments_lexer": "ipython3",
   "version": "3.8.3"
  }
 },
 "nbformat": 4,
 "nbformat_minor": 4
}
